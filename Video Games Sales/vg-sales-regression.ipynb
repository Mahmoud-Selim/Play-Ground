{
 "cells": [
  {
   "cell_type": "markdown",
   "metadata": {},
   "source": [
    "# Video Game Sales\n",
    "---\n",
    "\n",
    "This dataset contains a list of video games with sales greater than 100,000 copies. The goal of this notebook is to use traditional ML methods to predict the sales of these games, so it will treated as a regression problem."
   ]
  },
  {
   "cell_type": "code",
   "execution_count": 100,
   "metadata": {
    "execution": {
     "iopub.execute_input": "2020-09-06T19:26:45.309662Z",
     "iopub.status.busy": "2020-09-06T19:26:45.308869Z",
     "iopub.status.idle": "2020-09-06T19:26:46.735340Z",
     "shell.execute_reply": "2020-09-06T19:26:46.734629Z"
    },
    "papermill": {
     "duration": 1.45512,
     "end_time": "2020-09-06T19:26:46.735458",
     "exception": false,
     "start_time": "2020-09-06T19:26:45.280338",
     "status": "completed"
    },
    "tags": []
   },
   "outputs": [],
   "source": [
    "## Importing the libraries\n",
    "import pandas as pd\n",
    "import matplotlib.pyplot as plt\n",
    "import numpy as np\n",
    "import seaborn as sns\n",
    "import warnings\n",
    "import plotly.express as px\n",
    "import math\n",
    "warnings.filterwarnings('ignore')"
   ]
  },
  {
   "cell_type": "code",
   "execution_count": 101,
   "metadata": {
    "execution": {
     "iopub.execute_input": "2020-09-06T19:26:46.780004Z",
     "iopub.status.busy": "2020-09-06T19:26:46.779156Z",
     "iopub.status.idle": "2020-09-06T19:26:46.867254Z",
     "shell.execute_reply": "2020-09-06T19:26:46.866297Z"
    },
    "papermill": {
     "duration": 0.113842,
     "end_time": "2020-09-06T19:26:46.867406",
     "exception": false,
     "start_time": "2020-09-06T19:26:46.753564",
     "status": "completed"
    },
    "tags": []
   },
   "outputs": [],
   "source": [
    "## Importing the dataset\n",
    "dataset = pd.read_csv('./vgsales.csv')"
   ]
  },
  {
   "cell_type": "code",
   "execution_count": 102,
   "metadata": {
    "execution": {
     "iopub.execute_input": "2020-09-06T19:26:46.922302Z",
     "iopub.status.busy": "2020-09-06T19:26:46.921693Z",
     "iopub.status.idle": "2020-09-06T19:26:46.949928Z",
     "shell.execute_reply": "2020-09-06T19:26:46.949206Z"
    },
    "papermill": {
     "duration": 0.05815,
     "end_time": "2020-09-06T19:26:46.950104",
     "exception": false,
     "start_time": "2020-09-06T19:26:46.891954",
     "status": "completed"
    },
    "scrolled": false,
    "tags": []
   },
   "outputs": [
    {
     "name": "stdout",
     "output_type": "stream",
     "text": [
      "<class 'pandas.core.frame.DataFrame'>\n",
      "RangeIndex: 16598 entries, 0 to 16597\n",
      "Data columns (total 11 columns):\n",
      " #   Column        Non-Null Count  Dtype  \n",
      "---  ------        --------------  -----  \n",
      " 0   Rank          16598 non-null  int64  \n",
      " 1   Name          16598 non-null  object \n",
      " 2   Platform      16598 non-null  object \n",
      " 3   Year          16327 non-null  float64\n",
      " 4   Genre         16598 non-null  object \n",
      " 5   Publisher     16540 non-null  object \n",
      " 6   NA_Sales      16598 non-null  float64\n",
      " 7   EU_Sales      16598 non-null  float64\n",
      " 8   JP_Sales      16598 non-null  float64\n",
      " 9   Other_Sales   16598 non-null  float64\n",
      " 10  Global_Sales  16598 non-null  float64\n",
      "dtypes: float64(6), int64(1), object(4)\n",
      "memory usage: 1.4+ MB\n"
     ]
    }
   ],
   "source": [
    "dataset.info()"
   ]
  },
  {
   "cell_type": "code",
   "execution_count": 103,
   "metadata": {
    "execution": {
     "iopub.execute_input": "2020-09-06T19:26:47.018036Z",
     "iopub.status.busy": "2020-09-06T19:26:47.017361Z",
     "iopub.status.idle": "2020-09-06T19:26:47.031568Z",
     "shell.execute_reply": "2020-09-06T19:26:47.032041Z"
    },
    "papermill": {
     "duration": 0.054838,
     "end_time": "2020-09-06T19:26:47.032182",
     "exception": false,
     "start_time": "2020-09-06T19:26:46.977344",
     "status": "completed"
    },
    "scrolled": true,
    "tags": []
   },
   "outputs": [
    {
     "data": {
      "text/html": [
       "<div>\n",
       "<style scoped>\n",
       "    .dataframe tbody tr th:only-of-type {\n",
       "        vertical-align: middle;\n",
       "    }\n",
       "\n",
       "    .dataframe tbody tr th {\n",
       "        vertical-align: top;\n",
       "    }\n",
       "\n",
       "    .dataframe thead th {\n",
       "        text-align: right;\n",
       "    }\n",
       "</style>\n",
       "<table border=\"1\" class=\"dataframe\">\n",
       "  <thead>\n",
       "    <tr style=\"text-align: right;\">\n",
       "      <th></th>\n",
       "      <th>Rank</th>\n",
       "      <th>Name</th>\n",
       "      <th>Platform</th>\n",
       "      <th>Year</th>\n",
       "      <th>Genre</th>\n",
       "      <th>Publisher</th>\n",
       "      <th>NA_Sales</th>\n",
       "      <th>EU_Sales</th>\n",
       "      <th>JP_Sales</th>\n",
       "      <th>Other_Sales</th>\n",
       "      <th>Global_Sales</th>\n",
       "    </tr>\n",
       "  </thead>\n",
       "  <tbody>\n",
       "    <tr>\n",
       "      <th>0</th>\n",
       "      <td>1</td>\n",
       "      <td>Wii Sports</td>\n",
       "      <td>Wii</td>\n",
       "      <td>2006.0</td>\n",
       "      <td>Sports</td>\n",
       "      <td>Nintendo</td>\n",
       "      <td>41.49</td>\n",
       "      <td>29.02</td>\n",
       "      <td>3.77</td>\n",
       "      <td>8.46</td>\n",
       "      <td>82.74</td>\n",
       "    </tr>\n",
       "    <tr>\n",
       "      <th>1</th>\n",
       "      <td>2</td>\n",
       "      <td>Super Mario Bros.</td>\n",
       "      <td>NES</td>\n",
       "      <td>1985.0</td>\n",
       "      <td>Platform</td>\n",
       "      <td>Nintendo</td>\n",
       "      <td>29.08</td>\n",
       "      <td>3.58</td>\n",
       "      <td>6.81</td>\n",
       "      <td>0.77</td>\n",
       "      <td>40.24</td>\n",
       "    </tr>\n",
       "    <tr>\n",
       "      <th>2</th>\n",
       "      <td>3</td>\n",
       "      <td>Mario Kart Wii</td>\n",
       "      <td>Wii</td>\n",
       "      <td>2008.0</td>\n",
       "      <td>Racing</td>\n",
       "      <td>Nintendo</td>\n",
       "      <td>15.85</td>\n",
       "      <td>12.88</td>\n",
       "      <td>3.79</td>\n",
       "      <td>3.31</td>\n",
       "      <td>35.82</td>\n",
       "    </tr>\n",
       "    <tr>\n",
       "      <th>3</th>\n",
       "      <td>4</td>\n",
       "      <td>Wii Sports Resort</td>\n",
       "      <td>Wii</td>\n",
       "      <td>2009.0</td>\n",
       "      <td>Sports</td>\n",
       "      <td>Nintendo</td>\n",
       "      <td>15.75</td>\n",
       "      <td>11.01</td>\n",
       "      <td>3.28</td>\n",
       "      <td>2.96</td>\n",
       "      <td>33.00</td>\n",
       "    </tr>\n",
       "    <tr>\n",
       "      <th>4</th>\n",
       "      <td>5</td>\n",
       "      <td>Pokemon Red/Pokemon Blue</td>\n",
       "      <td>GB</td>\n",
       "      <td>1996.0</td>\n",
       "      <td>Role-Playing</td>\n",
       "      <td>Nintendo</td>\n",
       "      <td>11.27</td>\n",
       "      <td>8.89</td>\n",
       "      <td>10.22</td>\n",
       "      <td>1.00</td>\n",
       "      <td>31.37</td>\n",
       "    </tr>\n",
       "    <tr>\n",
       "      <th>5</th>\n",
       "      <td>6</td>\n",
       "      <td>Tetris</td>\n",
       "      <td>GB</td>\n",
       "      <td>1989.0</td>\n",
       "      <td>Puzzle</td>\n",
       "      <td>Nintendo</td>\n",
       "      <td>23.20</td>\n",
       "      <td>2.26</td>\n",
       "      <td>4.22</td>\n",
       "      <td>0.58</td>\n",
       "      <td>30.26</td>\n",
       "    </tr>\n",
       "    <tr>\n",
       "      <th>6</th>\n",
       "      <td>7</td>\n",
       "      <td>New Super Mario Bros.</td>\n",
       "      <td>DS</td>\n",
       "      <td>2006.0</td>\n",
       "      <td>Platform</td>\n",
       "      <td>Nintendo</td>\n",
       "      <td>11.38</td>\n",
       "      <td>9.23</td>\n",
       "      <td>6.50</td>\n",
       "      <td>2.90</td>\n",
       "      <td>30.01</td>\n",
       "    </tr>\n",
       "    <tr>\n",
       "      <th>7</th>\n",
       "      <td>8</td>\n",
       "      <td>Wii Play</td>\n",
       "      <td>Wii</td>\n",
       "      <td>2006.0</td>\n",
       "      <td>Misc</td>\n",
       "      <td>Nintendo</td>\n",
       "      <td>14.03</td>\n",
       "      <td>9.20</td>\n",
       "      <td>2.93</td>\n",
       "      <td>2.85</td>\n",
       "      <td>29.02</td>\n",
       "    </tr>\n",
       "    <tr>\n",
       "      <th>8</th>\n",
       "      <td>9</td>\n",
       "      <td>New Super Mario Bros. Wii</td>\n",
       "      <td>Wii</td>\n",
       "      <td>2009.0</td>\n",
       "      <td>Platform</td>\n",
       "      <td>Nintendo</td>\n",
       "      <td>14.59</td>\n",
       "      <td>7.06</td>\n",
       "      <td>4.70</td>\n",
       "      <td>2.26</td>\n",
       "      <td>28.62</td>\n",
       "    </tr>\n",
       "    <tr>\n",
       "      <th>9</th>\n",
       "      <td>10</td>\n",
       "      <td>Duck Hunt</td>\n",
       "      <td>NES</td>\n",
       "      <td>1984.0</td>\n",
       "      <td>Shooter</td>\n",
       "      <td>Nintendo</td>\n",
       "      <td>26.93</td>\n",
       "      <td>0.63</td>\n",
       "      <td>0.28</td>\n",
       "      <td>0.47</td>\n",
       "      <td>28.31</td>\n",
       "    </tr>\n",
       "  </tbody>\n",
       "</table>\n",
       "</div>"
      ],
      "text/plain": [
       "   Rank                       Name Platform    Year         Genre Publisher  \\\n",
       "0     1                 Wii Sports      Wii  2006.0        Sports  Nintendo   \n",
       "1     2          Super Mario Bros.      NES  1985.0      Platform  Nintendo   \n",
       "2     3             Mario Kart Wii      Wii  2008.0        Racing  Nintendo   \n",
       "3     4          Wii Sports Resort      Wii  2009.0        Sports  Nintendo   \n",
       "4     5   Pokemon Red/Pokemon Blue       GB  1996.0  Role-Playing  Nintendo   \n",
       "5     6                     Tetris       GB  1989.0        Puzzle  Nintendo   \n",
       "6     7      New Super Mario Bros.       DS  2006.0      Platform  Nintendo   \n",
       "7     8                   Wii Play      Wii  2006.0          Misc  Nintendo   \n",
       "8     9  New Super Mario Bros. Wii      Wii  2009.0      Platform  Nintendo   \n",
       "9    10                  Duck Hunt      NES  1984.0       Shooter  Nintendo   \n",
       "\n",
       "   NA_Sales  EU_Sales  JP_Sales  Other_Sales  Global_Sales  \n",
       "0     41.49     29.02      3.77         8.46         82.74  \n",
       "1     29.08      3.58      6.81         0.77         40.24  \n",
       "2     15.85     12.88      3.79         3.31         35.82  \n",
       "3     15.75     11.01      3.28         2.96         33.00  \n",
       "4     11.27      8.89     10.22         1.00         31.37  \n",
       "5     23.20      2.26      4.22         0.58         30.26  \n",
       "6     11.38      9.23      6.50         2.90         30.01  \n",
       "7     14.03      9.20      2.93         2.85         29.02  \n",
       "8     14.59      7.06      4.70         2.26         28.62  \n",
       "9     26.93      0.63      0.28         0.47         28.31  "
      ]
     },
     "execution_count": 103,
     "metadata": {},
     "output_type": "execute_result"
    }
   ],
   "source": [
    "dataset.head(10)"
   ]
  },
  {
   "cell_type": "markdown",
   "metadata": {},
   "source": [
    "We have 3 categorical data features. These featuers are `Platform`, `Genre`, and `Publisher`. These values need to be converted by either label encoding or one hot encoding, but first, we get how many unique values in each column "
   ]
  },
  {
   "cell_type": "code",
   "execution_count": 104,
   "metadata": {},
   "outputs": [
    {
     "name": "stdout",
     "output_type": "stream",
     "text": [
      "Platform has: (31,) unique values. They are ['Wii', 'NES', 'GB', 'DS', 'X360', 'PS3', 'PS2', 'SNES', 'GBA', '3DS', 'PS4', 'N64', 'PS', 'XB', 'PC', '2600', 'PSP', 'XOne', 'GC', 'WiiU', 'GEN', 'DC', 'PSV', 'SAT', 'SCD', 'WS', 'NG', 'TG16', '3DO', 'GG', 'PCFX']\n"
     ]
    }
   ],
   "source": [
    "print(\"Platform has: {} unique values. They are {}\".format(pd.unique(dataset[\"Platform\"]).shape, \n",
    "                                                           [i for i in pd.unique(dataset[\"Platform\"])]))"
   ]
  },
  {
   "cell_type": "code",
   "execution_count": 105,
   "metadata": {},
   "outputs": [
    {
     "name": "stdout",
     "output_type": "stream",
     "text": [
      "Genre has: (12,) unique values. They are ['Sports', 'Platform', 'Racing', 'Role-Playing', 'Puzzle', 'Misc', 'Shooter', 'Simulation', 'Action', 'Fighting', 'Adventure', 'Strategy']\n"
     ]
    }
   ],
   "source": [
    "print(\"Genre has: {} unique values. They are {}\".format(pd.unique(dataset[\"Genre\"]).shape, \n",
    "                                                           [i for i in pd.unique(dataset[\"Genre\"])]))"
   ]
  },
  {
   "cell_type": "code",
   "execution_count": 106,
   "metadata": {
    "scrolled": true
   },
   "outputs": [
    {
     "name": "stdout",
     "output_type": "stream",
     "text": [
      "Publisher has: (579,) unique values. They are ['Nintendo', 'Microsoft Game Studios', 'Take-Two Interactive', 'Sony Computer Entertainment', 'Activision', 'Ubisoft', 'Bethesda Softworks', 'Electronic Arts', 'Sega', 'SquareSoft', 'Atari', '505 Games', 'Capcom', 'GT Interactive', 'Konami Digital Entertainment', 'Sony Computer Entertainment Europe', 'Square Enix', 'LucasArts', 'Virgin Interactive', 'Warner Bros. Interactive Entertainment', 'Universal Interactive', 'Eidos Interactive', 'RedOctane', 'Vivendi Games', 'Enix Corporation', 'Namco Bandai Games', 'Palcom', 'Hasbro Interactive', 'THQ', 'Fox Interactive', 'Acclaim Entertainment', 'MTV Games', 'Disney Interactive Studios', nan, 'Majesco Entertainment', 'Codemasters', 'Red Orb', 'Level 5', 'Arena Entertainment', 'Midway Games', 'JVC', 'Deep Silver', '989 Studios', 'NCSoft', 'UEP Systems', 'Parker Bros.', 'Maxis', 'Imagic', 'Tecmo Koei', 'Valve Software', 'ASCII Entertainment', 'Mindscape', 'Infogrames', 'Unknown', 'Square', 'Valve', 'Activision Value', 'Banpresto', 'D3Publisher', 'Oxygen Interactive', 'Red Storm Entertainment', 'Video System', 'Hello Games', 'Global Star', 'Gotham Games', 'Westwood Studios', 'GungHo', 'Crave Entertainment', 'Hudson Soft', 'Coleco', 'Rising Star Games', 'Atlus', 'TDK Mediactive', 'ASC Games', 'Zoo Games', 'Accolade', 'Sony Online Entertainment', '3DO', 'RTL', 'Natsume', 'Focus Home Interactive', 'Alchemist', 'Black Label Games', 'SouthPeak Games', 'Mastertronic', 'Ocean', 'Zoo Digital Publishing', 'Psygnosis', 'City Interactive', 'Empire Interactive', 'Success', 'Compile', 'Russel', 'Taito', 'Agetec', 'GSP', 'Microprose', 'Play It', 'Slightly Mad Studios', 'Tomy Corporation', 'Sammy Corporation', 'Koch Media', 'Game Factory', 'Titus', 'Marvelous Entertainment', 'Genki', 'Mojang', 'Pinnacle', 'CTO SpA', 'TalonSoft', 'Crystal Dynamics', 'SCi', 'Quelle', 'mixi, Inc', 'Rage Software', 'Ubisoft Annecy', 'Scholastic Inc.', 'Interplay', 'Mystique', 'ChunSoft', 'Square EA', '20th Century Fox Video Games', 'Avanquest Software', 'Hudson Entertainment', 'Nordic Games', 'Men-A-Vision', 'Nobilis', 'Big Ben Interactive', 'Touchstone', 'Spike', 'Jester Interactive', 'Nippon Ichi Software', 'LEGO Media', 'Quest', 'Illusion Softworks', 'Tigervision', 'Funbox Media', 'Rocket Company', 'Metro 3D', 'Mattel Interactive', 'IE Institute', 'Rondomedia', 'Sony Computer Entertainment America', 'Universal Gamex', 'Ghostlight', 'Wizard Video Games', 'BMG Interactive Entertainment', 'PQube', 'Trion Worlds', 'Laguna', 'Ignition Entertainment', 'Takara', 'Kadokawa Shoten', 'Destineer', 'Enterbrain', 'Xseed Games', 'Imagineer', 'System 3 Arcade Software', 'CPG Products', 'Aruze Corp', 'Gamebridge', 'Midas Interactive Entertainment', 'Jaleco', 'Answer Software', 'XS Games', 'Activision Blizzard', 'Pack In Soft', 'Rebellion', 'Xplosiv', 'Ultravision', 'GameMill Entertainment', 'Wanadoo', 'NovaLogic', 'Telltale Games', 'Epoch', 'BAM! Entertainment', 'Knowledge Adventure', 'Mastiff', 'Tetris Online', 'Harmonix Music Systems', 'ESP', 'TYO', 'Telegames', 'Mud Duck Productions', 'Screenlife', 'Pioneer LDC', 'Magical Company', 'Mentor Interactive', 'Kemco', 'Human Entertainment', 'Avanquest', 'Data Age', 'Electronic Arts Victor', 'Black Bean Games', 'Jack of All Games', '989 Sports', 'Takara Tomy', 'Media Rings', 'Elf', 'Kalypso Media', 'Starfish', 'Zushi Games', 'Jorudan', 'Destination Software, Inc', 'New', 'Brash Entertainment', 'ITT Family Games', 'PopCap Games', 'Home Entertainment Suppliers', 'Ackkstudios', 'Starpath Corp.', 'P2 Games', 'BPS', 'Gathering of Developers', 'NewKidCo', 'Storm City Games', 'CokeM Interactive', 'CBS Electronics', 'Magix', 'Marvelous Interactive', 'Nihon Falcom Corporation', 'Wargaming.net', 'Angel Studios', 'Arc System Works', 'Playmates', 'SNK Playmore', 'Hamster Corporation', 'From Software', 'Nippon Columbia', 'Nichibutsu', 'Little Orbit', 'Conspiracy Entertainment', 'DTP Entertainment', 'Hect', 'Mumbo Jumbo', 'Pacific Century Cyber Works', 'Indie Games', 'Liquid Games', 'NEC', 'Axela', 'ArtDink', 'Sunsoft', 'Gust', 'SNK', 'NEC Interchannel', 'FuRyu', 'Xing Entertainment', 'ValuSoft', 'Victor Interactive', 'Detn8 Games', 'American Softworks', 'Nordcurrent', 'Bomb', 'Falcom Corporation', 'AQ Interactive', 'CCP', 'Milestone S.r.l.', 'Sears', 'JoWood Productions', 'Seta Corporation', 'On Demand', 'NCS', 'Aspyr', 'Gremlin Interactive Ltd', 'Agatsuma Entertainment', 'Compile Heart', 'Culture Brain', 'Mad Catz', 'Shogakukan', 'Merscom LLC', 'Rebellion Developments', 'Nippon Telenet', 'TDK Core', 'bitComposer Games', 'Foreign Media Games', 'Astragon', 'SSI', 'Kadokawa Games', 'Idea Factory', 'Performance Designed Products', 'Asylum Entertainment', 'Core Design Ltd.', 'PlayV', 'UFO Interactive', 'Idea Factory International', 'Playlogic Game Factory', 'Essential Games', 'Adeline Software', 'Funcom', 'Panther Software', 'Blast! Entertainment Ltd', 'Game Life', 'DSI Games', 'Avalon Interactive', 'Popcorn Arcade', 'Neko Entertainment', 'Vir2L Studios', 'Aques', 'Syscom', 'White Park Bay Software', 'System 3', 'Vatical Entertainment', 'Daedalic', 'EA Games', 'Media Factory', 'Vic Tokai', 'The Adventure Company', 'Game Arts', 'Broccoli', 'Acquire', 'General Entertainment', 'Excalibur Publishing', 'Imadio', 'Swing! Entertainment', 'Sony Music Entertainment', 'Aqua Plus', 'Paradox Interactive', 'Hip Interactive', 'DreamCatcher Interactive', 'Tripwire Interactive', 'Sting', 'Yacht Club Games', 'SCS Software', 'Bigben Interactive', 'Havas Interactive', 'Slitherine Software', 'Graffiti', 'Funsta', 'Telstar', 'U.S. Gold', 'DreamWorks Interactive', 'Data Design Interactive', 'MTO', 'DHM Interactive', 'FunSoft', 'SPS', 'Bohemia Interactive', 'Reef Entertainment', 'Tru Blu Entertainment', 'Moss', 'T&E Soft', 'O-Games', 'Aksys Games', 'NDA Productions', 'Data East', 'Time Warner Interactive', 'Gainax Network Systems', 'Daito', 'O3 Entertainment', 'Gameloft', 'Xicat Interactive', 'Simon & Schuster Interactive', 'Valcon Games', 'PopTop Software', 'TOHO', 'HMH Interactive', '5pb', 'Cave', 'CDV Software Entertainment', 'Microids', 'PM Studios', 'Paon', 'Micro Cabin', 'GameTek', 'Benesse', 'Type-Moon', 'Enjoy Gaming ltd.', 'Asmik Corp', 'Interplay Productions', 'Asmik Ace Entertainment', 'inXile Entertainment', 'Image Epoch', 'Phantom EFX', 'Evolved Games', 'responDESIGN', 'Culture Publishers', 'Griffin International', 'Hackberry', 'Hearty Robin', 'Nippon Amuse', 'Origin Systems', 'Seventh Chord', 'Mitsui', 'Milestone', 'Abylight', 'Flight-Plan', 'Glams', 'Locus', 'Warp', 'Daedalic Entertainment', 'Alternative Software', 'Myelin Media', 'Mercury Games', 'Irem Software Engineering', 'Sunrise Interactive', 'Elite', 'Evolution Games', 'Tivola', 'Global A Entertainment', 'Edia', 'Athena', 'Aria', 'Gamecock', 'Tommo', 'Altron', 'Happinet', 'iWin', 'Media Works', 'Fortyfive', 'Revolution Software', 'Imax', 'Crimson Cow', '10TACLE Studios', 'Groove Games', 'Pack-In-Video', 'Insomniac Games', 'Ascaron Entertainment GmbH', 'Asgard', 'Ecole', 'Yumedia', 'Phenomedia', 'HAL Laboratory', 'Grand Prix Games', 'DigiCube', 'Creative Core', 'Kaga Create', 'WayForward Technologies', 'LSP Games', 'ASCII Media Works', 'Coconuts Japan', 'Arika', 'Ertain', 'Marvel Entertainment', 'Prototype', 'TopWare Interactive', 'Phantagram', '1C Company', 'The Learning Company', 'TechnoSoft', 'Vap', 'Misawa', 'Tradewest', 'Team17 Software', 'Yeti', 'Pow', 'Navarre Corp', 'MediaQuest', 'Max Five', 'Comfort', 'Monte Christo Multimedia', 'Pony Canyon', 'Riverhillsoft', 'Summitsoft', 'Milestone S.r.l', 'Playmore', 'MLB.com', 'Kool Kizz', 'Flashpoint Games', '49Games', 'Legacy Interactive', 'Alawar Entertainment', 'CyberFront', 'Cloud Imperium Games Corporation', 'Societa', 'Virtual Play Games', 'Interchannel', 'Sonnet', 'Experience Inc.', 'Zenrin', 'Iceberg Interactive', 'Ivolgamus', '2D Boy', 'MC2 Entertainment', 'Kando Games', 'Just Flight', 'Office Create', 'Mamba Games', 'Fields', 'Princess Soft', 'Maximum Family Games', 'Berkeley', 'Fuji', 'Dusenberry Martin Racing', 'imageepoch Inc.', 'Big Fish Games', 'Her Interactive', 'Kamui', 'ASK', 'Headup Games', 'KSS', 'Cygames', 'KID', 'Quinrose', 'Sunflowers', 'dramatic create', 'TGL', 'Encore', 'Extreme Entertainment Group', 'Intergrow', 'G.Rev', 'Sweets', 'Kokopeli Digital Studios', 'Number None', 'Nexon', 'id Software', 'BushiRoad', 'Tryfirst', 'Strategy First', '7G//AMES', 'GN Software', \"Yuke's\", 'Easy Interactive', 'Licensed 4U', 'FuRyu Corporation', 'Lexicon Entertainment', 'Paon Corporation', 'Kids Station', 'GOA', 'Graphsim Entertainment', 'King Records', 'Introversion Software', 'Minato Station', 'Devolver Digital', 'Blue Byte', 'Gaga', 'Yamasa Entertainment', 'Plenty', 'Views', 'fonfun', 'NetRevo', 'Codemasters Online', 'Quintet', 'Phoenix Games', 'Dorart', 'Marvelous Games', 'Focus Multimedia', 'Imageworks', 'Karin Entertainment', 'Aerosoft', 'Technos Japan Corporation', 'Gakken', 'Mirai Shounen', 'Datam Polystar', 'Saurus', 'HuneX', 'Revolution (Japan)', 'Giza10', 'Visco', 'Alvion', 'Mycom', 'Giga', 'Warashi', 'System Soft', 'Sold Out', 'Lighthouse Interactive', 'Masque Publishing', 'RED Entertainment', 'Michaelsoft', 'Media Entertainment', 'New World Computing', 'Genterprise', 'Interworks Unlimited, Inc.', 'Boost On', 'Stainless Games', 'EON Digital Entertainment', 'Epic Games', 'Naxat Soft', 'Ascaron Entertainment', 'Piacci', 'Nitroplus', 'Paradox Development', 'Otomate', 'Ongakukan', 'Commseed', 'Inti Creates', 'Takuyo', 'Interchannel-Holon', 'Rain Games', 'UIG Entertainment']\n"
     ]
    }
   ],
   "source": [
    "print(\"Publisher has: {} unique values. They are {}\".format(pd.unique(dataset[\"Publisher\"]).shape, \n",
    "                                                           [i for i in pd.unique(dataset[\"Publisher\"])]))"
   ]
  },
  {
   "cell_type": "markdown",
   "metadata": {},
   "source": [
    "As we can see, The 3 columns has many many unique values. Thus, we go to label encoding. Although label encoding may not accuracte as our features are not ordinal, We don't use one hot encoding to avoid sparse vectors and possibly multicollinearity"
   ]
  },
  {
   "cell_type": "markdown",
   "metadata": {},
   "source": [
    "**After some investigation**, it was found that the publisher values contains both floats and strings types which is not correct for categorial data feature. "
   ]
  },
  {
   "cell_type": "code",
   "execution_count": 107,
   "metadata": {},
   "outputs": [
    {
     "name": "stdout",
     "output_type": "stream",
     "text": [
      "Publisher values are of types:{<class 'float'>, <class 'str'>}\n"
     ]
    }
   ],
   "source": [
    "publisher_unique_values = pd.unique(dataset[\"Publisher\"])\n",
    "types_set = set([])\n",
    "for i in publisher_unique_values:\n",
    "    types_set.add(type(i))                \n",
    "    \n",
    "print(\"Publisher values are of types:{}\".format(types_set))"
   ]
  },
  {
   "cell_type": "code",
   "execution_count": 108,
   "metadata": {},
   "outputs": [
    {
     "name": "stdout",
     "output_type": "stream",
     "text": [
      "nan\n"
     ]
    }
   ],
   "source": [
    "for i in publisher_unique_values:\n",
    "    if(type(i) == float):\n",
    "        print(i)"
   ]
  },
  {
   "cell_type": "markdown",
   "metadata": {},
   "source": [
    "As expected, publisher has a nan values. That is not a number. So, we drop it "
   ]
  },
  {
   "cell_type": "code",
   "execution_count": 109,
   "metadata": {},
   "outputs": [],
   "source": [
    "dataset = dataset.dropna()"
   ]
  },
  {
   "cell_type": "markdown",
   "metadata": {},
   "source": [
    "Then, we convert our categorical feature to labeled encoded features."
   ]
  },
  {
   "cell_type": "code",
   "execution_count": 110,
   "metadata": {},
   "outputs": [],
   "source": [
    "from sklearn import preprocessing\n",
    "label_encoder = preprocessing.LabelEncoder()\n",
    "\n",
    "dataset[\"Platform\"]= label_encoder.fit_transform(dataset[\"Platform\"]) \n",
    "dataset[\"Genre\"]= label_encoder.fit_transform(dataset[\"Genre\"]) \n",
    "dataset[\"Publisher\"]= label_encoder.fit_transform(dataset[\"Publisher\"])"
   ]
  },
  {
   "cell_type": "code",
   "execution_count": 112,
   "metadata": {},
   "outputs": [
    {
     "data": {
      "text/html": [
       "<div>\n",
       "<style scoped>\n",
       "    .dataframe tbody tr th:only-of-type {\n",
       "        vertical-align: middle;\n",
       "    }\n",
       "\n",
       "    .dataframe tbody tr th {\n",
       "        vertical-align: top;\n",
       "    }\n",
       "\n",
       "    .dataframe thead th {\n",
       "        text-align: right;\n",
       "    }\n",
       "</style>\n",
       "<table border=\"1\" class=\"dataframe\">\n",
       "  <thead>\n",
       "    <tr style=\"text-align: right;\">\n",
       "      <th></th>\n",
       "      <th>Rank</th>\n",
       "      <th>Name</th>\n",
       "      <th>Platform</th>\n",
       "      <th>Year</th>\n",
       "      <th>Genre</th>\n",
       "      <th>Publisher</th>\n",
       "      <th>NA_Sales</th>\n",
       "      <th>EU_Sales</th>\n",
       "      <th>JP_Sales</th>\n",
       "      <th>Other_Sales</th>\n",
       "      <th>Global_Sales</th>\n",
       "    </tr>\n",
       "  </thead>\n",
       "  <tbody>\n",
       "    <tr>\n",
       "      <th>0</th>\n",
       "      <td>1</td>\n",
       "      <td>Wii Sports</td>\n",
       "      <td>26</td>\n",
       "      <td>2006.0</td>\n",
       "      <td>10</td>\n",
       "      <td>359</td>\n",
       "      <td>41.49</td>\n",
       "      <td>29.02</td>\n",
       "      <td>3.77</td>\n",
       "      <td>8.46</td>\n",
       "      <td>82.74</td>\n",
       "    </tr>\n",
       "    <tr>\n",
       "      <th>1</th>\n",
       "      <td>2</td>\n",
       "      <td>Super Mario Bros.</td>\n",
       "      <td>11</td>\n",
       "      <td>1985.0</td>\n",
       "      <td>4</td>\n",
       "      <td>359</td>\n",
       "      <td>29.08</td>\n",
       "      <td>3.58</td>\n",
       "      <td>6.81</td>\n",
       "      <td>0.77</td>\n",
       "      <td>40.24</td>\n",
       "    </tr>\n",
       "    <tr>\n",
       "      <th>2</th>\n",
       "      <td>3</td>\n",
       "      <td>Mario Kart Wii</td>\n",
       "      <td>26</td>\n",
       "      <td>2008.0</td>\n",
       "      <td>6</td>\n",
       "      <td>359</td>\n",
       "      <td>15.85</td>\n",
       "      <td>12.88</td>\n",
       "      <td>3.79</td>\n",
       "      <td>3.31</td>\n",
       "      <td>35.82</td>\n",
       "    </tr>\n",
       "    <tr>\n",
       "      <th>3</th>\n",
       "      <td>4</td>\n",
       "      <td>Wii Sports Resort</td>\n",
       "      <td>26</td>\n",
       "      <td>2009.0</td>\n",
       "      <td>10</td>\n",
       "      <td>359</td>\n",
       "      <td>15.75</td>\n",
       "      <td>11.01</td>\n",
       "      <td>3.28</td>\n",
       "      <td>2.96</td>\n",
       "      <td>33.00</td>\n",
       "    </tr>\n",
       "    <tr>\n",
       "      <th>4</th>\n",
       "      <td>5</td>\n",
       "      <td>Pokemon Red/Pokemon Blue</td>\n",
       "      <td>5</td>\n",
       "      <td>1996.0</td>\n",
       "      <td>7</td>\n",
       "      <td>359</td>\n",
       "      <td>11.27</td>\n",
       "      <td>8.89</td>\n",
       "      <td>10.22</td>\n",
       "      <td>1.00</td>\n",
       "      <td>31.37</td>\n",
       "    </tr>\n",
       "    <tr>\n",
       "      <th>5</th>\n",
       "      <td>6</td>\n",
       "      <td>Tetris</td>\n",
       "      <td>5</td>\n",
       "      <td>1989.0</td>\n",
       "      <td>5</td>\n",
       "      <td>359</td>\n",
       "      <td>23.20</td>\n",
       "      <td>2.26</td>\n",
       "      <td>4.22</td>\n",
       "      <td>0.58</td>\n",
       "      <td>30.26</td>\n",
       "    </tr>\n",
       "    <tr>\n",
       "      <th>6</th>\n",
       "      <td>7</td>\n",
       "      <td>New Super Mario Bros.</td>\n",
       "      <td>4</td>\n",
       "      <td>2006.0</td>\n",
       "      <td>4</td>\n",
       "      <td>359</td>\n",
       "      <td>11.38</td>\n",
       "      <td>9.23</td>\n",
       "      <td>6.50</td>\n",
       "      <td>2.90</td>\n",
       "      <td>30.01</td>\n",
       "    </tr>\n",
       "    <tr>\n",
       "      <th>7</th>\n",
       "      <td>8</td>\n",
       "      <td>Wii Play</td>\n",
       "      <td>26</td>\n",
       "      <td>2006.0</td>\n",
       "      <td>3</td>\n",
       "      <td>359</td>\n",
       "      <td>14.03</td>\n",
       "      <td>9.20</td>\n",
       "      <td>2.93</td>\n",
       "      <td>2.85</td>\n",
       "      <td>29.02</td>\n",
       "    </tr>\n",
       "    <tr>\n",
       "      <th>8</th>\n",
       "      <td>9</td>\n",
       "      <td>New Super Mario Bros. Wii</td>\n",
       "      <td>26</td>\n",
       "      <td>2009.0</td>\n",
       "      <td>4</td>\n",
       "      <td>359</td>\n",
       "      <td>14.59</td>\n",
       "      <td>7.06</td>\n",
       "      <td>4.70</td>\n",
       "      <td>2.26</td>\n",
       "      <td>28.62</td>\n",
       "    </tr>\n",
       "    <tr>\n",
       "      <th>9</th>\n",
       "      <td>10</td>\n",
       "      <td>Duck Hunt</td>\n",
       "      <td>11</td>\n",
       "      <td>1984.0</td>\n",
       "      <td>8</td>\n",
       "      <td>359</td>\n",
       "      <td>26.93</td>\n",
       "      <td>0.63</td>\n",
       "      <td>0.28</td>\n",
       "      <td>0.47</td>\n",
       "      <td>28.31</td>\n",
       "    </tr>\n",
       "  </tbody>\n",
       "</table>\n",
       "</div>"
      ],
      "text/plain": [
       "   Rank                       Name  Platform    Year  Genre  Publisher  \\\n",
       "0     1                 Wii Sports        26  2006.0     10        359   \n",
       "1     2          Super Mario Bros.        11  1985.0      4        359   \n",
       "2     3             Mario Kart Wii        26  2008.0      6        359   \n",
       "3     4          Wii Sports Resort        26  2009.0     10        359   \n",
       "4     5   Pokemon Red/Pokemon Blue         5  1996.0      7        359   \n",
       "5     6                     Tetris         5  1989.0      5        359   \n",
       "6     7      New Super Mario Bros.         4  2006.0      4        359   \n",
       "7     8                   Wii Play        26  2006.0      3        359   \n",
       "8     9  New Super Mario Bros. Wii        26  2009.0      4        359   \n",
       "9    10                  Duck Hunt        11  1984.0      8        359   \n",
       "\n",
       "   NA_Sales  EU_Sales  JP_Sales  Other_Sales  Global_Sales  \n",
       "0     41.49     29.02      3.77         8.46         82.74  \n",
       "1     29.08      3.58      6.81         0.77         40.24  \n",
       "2     15.85     12.88      3.79         3.31         35.82  \n",
       "3     15.75     11.01      3.28         2.96         33.00  \n",
       "4     11.27      8.89     10.22         1.00         31.37  \n",
       "5     23.20      2.26      4.22         0.58         30.26  \n",
       "6     11.38      9.23      6.50         2.90         30.01  \n",
       "7     14.03      9.20      2.93         2.85         29.02  \n",
       "8     14.59      7.06      4.70         2.26         28.62  \n",
       "9     26.93      0.63      0.28         0.47         28.31  "
      ]
     },
     "execution_count": 112,
     "metadata": {},
     "output_type": "execute_result"
    }
   ],
   "source": [
    "dataset.head(10)"
   ]
  },
  {
   "cell_type": "markdown",
   "metadata": {},
   "source": [
    "## Now, we get an overview of the histogram of the dataset"
   ]
  },
  {
   "cell_type": "code",
   "execution_count": 113,
   "metadata": {},
   "outputs": [
    {
     "data": {
      "image/png": "[encoded data removed]",
      "text/plain": [
       "<Figure size 1080x1080 with 12 Axes>"
      ]
     },
     "metadata": {
      "needs_background": "light"
     },
     "output_type": "display_data"
    },
    {
     "name": "stdout",
     "output_type": "stream",
     "text": [
      "(16291, 11)\n",
      "Index(['Rank', 'Name', 'Platform', 'Year', 'Genre', 'Publisher', 'NA_Sales',\n",
      "       'EU_Sales', 'JP_Sales', 'Other_Sales', 'Global_Sales'],\n",
      "      dtype='object')\n"
     ]
    }
   ],
   "source": [
    "dataset.hist(figsize=(15,15))\n",
    "plt.show()\n",
    "print(dataset.shape)\n",
    "print(dataset.columns)"
   ]
  },
  {
   "cell_type": "code",
   "execution_count": null,
   "metadata": {},
   "outputs": [],
   "source": []
  },
  {
   "cell_type": "code",
   "execution_count": 114,
   "metadata": {
    "execution": {
     "iopub.execute_input": "2020-09-06T19:26:47.077027Z",
     "iopub.status.busy": "2020-09-06T19:26:47.076316Z",
     "iopub.status.idle": "2020-09-06T19:26:47.081768Z",
     "shell.execute_reply": "2020-09-06T19:26:47.082231Z"
    },
    "papermill": {
     "duration": 0.031967,
     "end_time": "2020-09-06T19:26:47.082366",
     "exception": false,
     "start_time": "2020-09-06T19:26:47.050399",
     "status": "completed"
    },
    "scrolled": false,
    "tags": []
   },
   "outputs": [
    {
     "data": {
      "text/plain": [
       "False"
      ]
     },
     "execution_count": 114,
     "metadata": {},
     "output_type": "execute_result"
    }
   ],
   "source": [
    "# Checking for null values in the dataset\n",
    "dataset.isnull().values.any()"
   ]
  },
  {
   "cell_type": "code",
   "execution_count": 115,
   "metadata": {
    "execution": {
     "iopub.execute_input": "2020-09-06T19:26:47.129307Z",
     "iopub.status.busy": "2020-09-06T19:26:47.127586Z",
     "iopub.status.idle": "2020-09-06T19:26:47.149084Z",
     "shell.execute_reply": "2020-09-06T19:26:47.149588Z"
    },
    "papermill": {
     "duration": 0.048671,
     "end_time": "2020-09-06T19:26:47.149727",
     "exception": false,
     "start_time": "2020-09-06T19:26:47.101056",
     "status": "completed"
    },
    "scrolled": true,
    "tags": []
   },
   "outputs": [
    {
     "name": "stdout",
     "output_type": "stream",
     "text": [
      "Rank has any Null values        ? False\n",
      "Name has any Null values        ? False\n",
      "Platform has any Null values    ? False\n",
      "Year has any Null values        ? False\n",
      "Genre has any Null values       ? False\n",
      "Publisher has any Null values   ? False\n",
      "NA_Sales has any Null values    ? False\n",
      "EU_Sales has any Null values    ? False\n",
      "JP_Sales has any Null values    ? False\n",
      "Other_Sales has any Null values ? False\n",
      "Global_Sales has any Null values? False\n"
     ]
    }
   ],
   "source": [
    "## Checking which columns contain null values\n",
    "print(\"Rank has any Null values        ?\", dataset['Rank'].isnull().values.any())\n",
    "print(\"Name has any Null values        ?\", dataset['Name'].isnull().values.any())\n",
    "print(\"Platform has any Null values    ?\", dataset['Platform'].isnull().values.any())\n",
    "print(\"Year has any Null values        ?\", dataset['Year'].isnull().values.any())\n",
    "print(\"Genre has any Null values       ?\", dataset['Genre'].isnull().values.any())\n",
    "print(\"Publisher has any Null values   ?\", dataset['Publisher'].isnull().values.any())\n",
    "print(\"NA_Sales has any Null values    ?\", dataset['NA_Sales'].isnull().values.any())\n",
    "print(\"EU_Sales has any Null values    ?\", dataset['EU_Sales'].isnull().values.any())\n",
    "print(\"JP_Sales has any Null values    ?\", dataset['JP_Sales'].isnull().values.any())\n",
    "print(\"Other_Sales has any Null values ?\", dataset['Other_Sales'].isnull().values.any())\n",
    "print(\"Global_Sales has any Null values?\", dataset['Global_Sales'].isnull().values.any())"
   ]
  },
  {
   "cell_type": "markdown",
   "metadata": {},
   "source": [
    "We notice that both year and publisher fields have null values. Hence, we remove them."
   ]
  },
  {
   "cell_type": "code",
   "execution_count": 116,
   "metadata": {
    "execution": {
     "iopub.execute_input": "2020-09-06T19:26:47.197831Z",
     "iopub.status.busy": "2020-09-06T19:26:47.197089Z",
     "iopub.status.idle": "2020-09-06T19:26:47.202041Z",
     "shell.execute_reply": "2020-09-06T19:26:47.201381Z"
    },
    "papermill": {
     "duration": 0.033351,
     "end_time": "2020-09-06T19:26:47.202137",
     "exception": false,
     "start_time": "2020-09-06T19:26:47.168786",
     "status": "completed"
    },
    "scrolled": true,
    "tags": []
   },
   "outputs": [
    {
     "name": "stdout",
     "output_type": "stream",
     "text": [
      "Null year count: 0\n",
      "Null publishers count: 0\n",
      "Max Year Value: 2020.0\n"
     ]
    }
   ],
   "source": [
    "#Checking the number of missing value rows in the dataset\n",
    "print(\"Null year count:\", dataset['Year'].isnull().sum())\n",
    "print(\"Null publishers count:\", dataset['Publisher'].isnull().sum())\n",
    "print(\"Max Year Value:\", dataset['Year'].max())"
   ]
  },
  {
   "cell_type": "code",
   "execution_count": 117,
   "metadata": {
    "execution": {
     "iopub.execute_input": "2020-09-06T19:26:47.257160Z",
     "iopub.status.busy": "2020-09-06T19:26:47.256532Z",
     "iopub.status.idle": "2020-09-06T19:26:47.265391Z",
     "shell.execute_reply": "2020-09-06T19:26:47.264719Z"
    },
    "papermill": {
     "duration": 0.043786,
     "end_time": "2020-09-06T19:26:47.265569",
     "exception": false,
     "start_time": "2020-09-06T19:26:47.221783",
     "status": "completed"
    },
    "tags": []
   },
   "outputs": [],
   "source": [
    "# Removing the missing value rows in the dataset\n",
    "dataset = dataset.dropna(axis=0, subset=['Year','Publisher'])"
   ]
  },
  {
   "cell_type": "code",
   "execution_count": 118,
   "metadata": {
    "execution": {
     "iopub.execute_input": "2020-09-06T19:26:47.321605Z",
     "iopub.status.busy": "2020-09-06T19:26:47.320871Z",
     "iopub.status.idle": "2020-09-06T19:26:47.328245Z",
     "shell.execute_reply": "2020-09-06T19:26:47.327650Z"
    },
    "papermill": {
     "duration": 0.042376,
     "end_time": "2020-09-06T19:26:47.328354",
     "exception": false,
     "start_time": "2020-09-06T19:26:47.285978",
     "status": "completed"
    },
    "tags": []
   },
   "outputs": [
    {
     "data": {
      "text/plain": [
       "False"
      ]
     },
     "execution_count": 118,
     "metadata": {},
     "output_type": "execute_result"
    }
   ],
   "source": [
    "dataset.isnull().values.any()"
   ]
  },
  {
   "cell_type": "markdown",
   "metadata": {},
   "source": [
    "#### Note: \n",
    "\n",
    "We can search for the null values online to get more accurate results. However, we'll only drop them for now as we need to compare our results with the ones posted at kaggle."
   ]
  },
  {
   "cell_type": "markdown",
   "metadata": {},
   "source": [
    "---\n",
    "\n",
    "Now that we have removed the null values, we check the number of games (rows) and the number of unique publishers, platforms and genres to get an idea of how our the games in the dataset are distributed categorically."
   ]
  },
  {
   "cell_type": "code",
   "execution_count": 119,
   "metadata": {
    "scrolled": false
   },
   "outputs": [
    {
     "name": "stdout",
     "output_type": "stream",
     "text": [
      "Number of games:  16291\n",
      "Number of publishers:  576\n",
      "Number of platforms:  31\n",
      "Number of genres:  12\n"
     ]
    }
   ],
   "source": [
    "print(\"Number of games: \", len(dataset))\n",
    "publishers = dataset['Publisher'].unique()\n",
    "print(\"Number of publishers: \", len(publishers))\n",
    "platforms = dataset['Platform'].unique()\n",
    "print(\"Number of platforms: \", len(platforms))\n",
    "genres = dataset['Genre'].unique()\n",
    "print(\"Number of genres: \", len(genres))"
   ]
  },
  {
   "cell_type": "markdown",
   "metadata": {},
   "source": [
    "---\n",
    "\n",
    "Below we create a simple column chart to represent the total 'Global_Sales' of video games per year. We get our data by data our dataframe of all video games sales, grouping it by 'Year' and then calling .sum() to get totals for each year. This creates a dataframe with our years as the index or row names and the entries our total sales for that year.\n",
    "\n",
    "In the dataset, the index representing years are floating point numbers eg \"2006.0\" not \"2006\". We get our x entries by taking these values as integers.\n",
    "\n",
    "Once data is ready we simply pass our x and y variables to our Seaborn barplot function. We also set our x-label names, the title and we also rotate our xticklabels and change their fontsize."
   ]
  },
  {
   "cell_type": "code",
   "execution_count": 120,
   "metadata": {
    "scrolled": false
   },
   "outputs": [
    {
     "data": {
      "image/png": "[encoded data removed]",
      "text/plain": [
       "<Figure size 864x576 with 1 Axes>"
      ]
     },
     "metadata": {
      "needs_background": "light"
     },
     "output_type": "display_data"
    }
   ],
   "source": [
    "y = dataset.groupby(['Year']).sum()\n",
    "y = y['Global_Sales']\n",
    "x = y.index.astype(int)\n",
    "\n",
    "plt.figure(figsize=(12,8))\n",
    "ax = sns.barplot(y = y, x = x)\n",
    "ax.set_xlabel(xlabel='$ Millions', fontsize=16)\n",
    "ax.set_xticklabels(labels = x, fontsize=12, rotation=50)\n",
    "ax.set_ylabel(ylabel='Year', fontsize=16)\n",
    "ax.set_title(label='Game Sales in $ Millions Per Year', fontsize=20)\n",
    "plt.show()"
   ]
  },
  {
   "cell_type": "markdown",
   "metadata": {},
   "source": [
    "Here we find an intersting fact. Both 2020 and 2017 have very little sales. Which means that they are probably erroneous. To make sure that our claim is true, we check the game releases in those two years"
   ]
  },
  {
   "cell_type": "code",
   "execution_count": 121,
   "metadata": {},
   "outputs": [
    {
     "data": {
      "image/png": "[encoded data removed]",
      "text/plain": [
       "<Figure size 864x576 with 1 Axes>"
      ]
     },
     "metadata": {
      "needs_background": "light"
     },
     "output_type": "display_data"
    }
   ],
   "source": [
    "x = dataset.groupby(['Year']).count()\n",
    "x = x['Global_Sales']\n",
    "y = x.index.astype(int)\n",
    "\n",
    "plt.figure(figsize=(12,8))\n",
    "colors = sns.color_palette(\"muted\")\n",
    "ax = sns.barplot(y = y, x = x, orient='h', palette=colors)\n",
    "ax.set_xlabel(xlabel='Number of releases', fontsize=16)\n",
    "ax.set_ylabel(ylabel='Year', fontsize=16)\n",
    "ax.set_title(label='Game Releases Per Year', fontsize=20)\n",
    "plt.show();"
   ]
  },
  {
   "cell_type": "markdown",
   "metadata": {},
   "source": [
    "As expected, they both have no or very little game releases. Thus, we remove those two fields from our dataset to get a better results"
   ]
  },
  {
   "cell_type": "code",
   "execution_count": 122,
   "metadata": {
    "scrolled": true
   },
   "outputs": [
    {
     "name": "stdout",
     "output_type": "stream",
     "text": [
      "Int64Index([1980, 1981, 1982, 1983, 1984, 1985, 1986, 1987, 1988, 1989, 1990,\n",
      "            1991, 1992, 1993, 1994, 1995, 1996, 1997, 1998, 1999, 2000, 2001,\n",
      "            2002, 2003, 2004, 2005, 2006, 2007, 2008, 2009, 2010, 2011, 2012,\n",
      "            2013, 2014, 2015, 2016, 2017, 2020],\n",
      "           dtype='int64', name='Year')\n"
     ]
    }
   ],
   "source": [
    "print(y)"
   ]
  },
  {
   "cell_type": "code",
   "execution_count": 123,
   "metadata": {},
   "outputs": [
    {
     "name": "stdout",
     "output_type": "stream",
     "text": [
      "Max Year Value:  2016.0\n"
     ]
    }
   ],
   "source": [
    "dataset = dataset[dataset.Year != 2020]\n",
    "dataset = dataset[dataset.Year != 2017]\n",
    "\n",
    "# Print Max year now\n",
    "year_data = dataset['Year']\n",
    "print(\"Max Year Value: \", year_data.max())"
   ]
  },
  {
   "cell_type": "markdown",
   "metadata": {},
   "source": [
    "We plot again to make sure it's removed correctly."
   ]
  },
  {
   "cell_type": "code",
   "execution_count": 124,
   "metadata": {
    "scrolled": false
   },
   "outputs": [
    {
     "data": {
      "image/png": "[encoded data removed]",
      "text/plain": [
       "<Figure size 864x576 with 1 Axes>"
      ]
     },
     "metadata": {
      "needs_background": "light"
     },
     "output_type": "display_data"
    }
   ],
   "source": [
    "y = dataset.groupby(['Year']).sum()\n",
    "y = y['Global_Sales']\n",
    "x = y.index.astype(int)\n",
    "\n",
    "plt.figure(figsize=(12,8))\n",
    "ax = sns.barplot(y = y, x = x)\n",
    "ax.set_xlabel(xlabel='$ Millions', fontsize=16)\n",
    "ax.set_xticklabels(labels = x, fontsize=12, rotation=50)\n",
    "ax.set_ylabel(ylabel='Year', fontsize=16)\n",
    "ax.set_title(label='Game Sales in $ Millions Per Year', fontsize=20)\n",
    "plt.show()"
   ]
  },
  {
   "cell_type": "markdown",
   "metadata": {},
   "source": [
    "Below we create a simple column chart to represent the total total number of releases of video games per year, but with a twist, it is oriented horizontally, which means our Year entries, which usually would be our X-axis, are now on the Y-axis and the count of 'Global_Sales' entries, which would usually be on the Y-axis, are now on the X-axis.\n",
    "\n",
    "The below chart that represents the number of games released each year is constructed in the same way as the above chart, with the only difference being we count the entries per year instead of summing them.\n",
    "\n",
    "We also introduce the 'palette' parameter of Seaborn's barplot that can be used to personally tune colour schemes but also comes with a large number of preset palettes. See http://seaborn.pydata.org/tutorial/color_palettes.html for a range of choices."
   ]
  },
  {
   "cell_type": "code",
   "execution_count": 125,
   "metadata": {
    "scrolled": false
   },
   "outputs": [
    {
     "data": {
      "image/png": "[encoded data removed]",
      "text/plain": [
       "<Figure size 864x576 with 1 Axes>"
      ]
     },
     "metadata": {
      "needs_background": "light"
     },
     "output_type": "display_data"
    }
   ],
   "source": [
    "x = dataset.groupby(['Year']).count()\n",
    "x = x['Global_Sales']\n",
    "y = x.index.astype(int)\n",
    "\n",
    "plt.figure(figsize=(12,8))\n",
    "colors = sns.color_palette(\"muted\")\n",
    "ax = sns.barplot(y = y, x = x, orient='h', palette=colors)\n",
    "ax.set_xlabel(xlabel='Number of releases', fontsize=16)\n",
    "ax.set_ylabel(ylabel='Year', fontsize=16)\n",
    "ax.set_title(label='Game Releases Per Year', fontsize=20)\n",
    "plt.show();"
   ]
  },
  {
   "cell_type": "markdown",
   "metadata": {},
   "source": [
    "We notice that the game releases is somewhat consistent with the sales per year now. So, we continue our analysis"
   ]
  },
  {
   "cell_type": "markdown",
   "metadata": {},
   "source": [
    "---"
   ]
  },
  {
   "cell_type": "markdown",
   "metadata": {},
   "source": [
    "Below we create a barplot of the Global Sales generated by the game that makes the most money each year. We also return a dataframe below for reference. One could potentially map different colours to each game but adding a legend to a plot with so many entries can make a plot look messy.\n",
    "\n",
    "The data creation for this plot is similar to that above, excluding the use of hue to represent categories in our data. Instead we use a colour palette, passing it the number of colours in that particular colour palette that we want."
   ]
  },
  {
   "cell_type": "code",
   "execution_count": 126,
   "metadata": {},
   "outputs": [
    {
     "data": {
      "image/png": "[encoded data removed]",
      "text/plain": [
       "<Figure size 864x576 with 1 Axes>"
      ]
     },
     "metadata": {
      "needs_background": "light"
     },
     "output_type": "display_data"
    },
    {
     "data": {
      "text/html": [
       "<div>\n",
       "<style scoped>\n",
       "    .dataframe tbody tr th:only-of-type {\n",
       "        vertical-align: middle;\n",
       "    }\n",
       "\n",
       "    .dataframe tbody tr th {\n",
       "        vertical-align: top;\n",
       "    }\n",
       "\n",
       "    .dataframe thead th {\n",
       "        text-align: right;\n",
       "    }\n",
       "</style>\n",
       "<table border=\"1\" class=\"dataframe\">\n",
       "  <thead>\n",
       "    <tr style=\"text-align: right;\">\n",
       "      <th></th>\n",
       "      <th>Game</th>\n",
       "      <th>Global Sales</th>\n",
       "    </tr>\n",
       "    <tr>\n",
       "      <th>Year</th>\n",
       "      <th></th>\n",
       "      <th></th>\n",
       "    </tr>\n",
       "  </thead>\n",
       "  <tbody>\n",
       "    <tr>\n",
       "      <th>1980</th>\n",
       "      <td>Asteroids</td>\n",
       "      <td>4.310</td>\n",
       "    </tr>\n",
       "    <tr>\n",
       "      <th>1981</th>\n",
       "      <td>Pitfall!</td>\n",
       "      <td>4.500</td>\n",
       "    </tr>\n",
       "    <tr>\n",
       "      <th>1982</th>\n",
       "      <td>Pac-Man</td>\n",
       "      <td>7.810</td>\n",
       "    </tr>\n",
       "    <tr>\n",
       "      <th>1983</th>\n",
       "      <td>Baseball</td>\n",
       "      <td>3.200</td>\n",
       "    </tr>\n",
       "    <tr>\n",
       "      <th>1984</th>\n",
       "      <td>Duck Hunt</td>\n",
       "      <td>28.310</td>\n",
       "    </tr>\n",
       "    <tr>\n",
       "      <th>1985</th>\n",
       "      <td>Super Mario Bros.</td>\n",
       "      <td>40.240</td>\n",
       "    </tr>\n",
       "    <tr>\n",
       "      <th>1986</th>\n",
       "      <td>The Legend of Zelda</td>\n",
       "      <td>6.510</td>\n",
       "    </tr>\n",
       "    <tr>\n",
       "      <th>1987</th>\n",
       "      <td>Zelda II: The Adventure of Link</td>\n",
       "      <td>4.380</td>\n",
       "    </tr>\n",
       "    <tr>\n",
       "      <th>1988</th>\n",
       "      <td>Super Mario Bros. 3</td>\n",
       "      <td>17.280</td>\n",
       "    </tr>\n",
       "    <tr>\n",
       "      <th>1989</th>\n",
       "      <td>Tetris</td>\n",
       "      <td>30.260</td>\n",
       "    </tr>\n",
       "    <tr>\n",
       "      <th>1990</th>\n",
       "      <td>Super Mario World</td>\n",
       "      <td>20.610</td>\n",
       "    </tr>\n",
       "    <tr>\n",
       "      <th>1991</th>\n",
       "      <td>The Legend of Zelda: A Link to the Past</td>\n",
       "      <td>4.610</td>\n",
       "    </tr>\n",
       "    <tr>\n",
       "      <th>1992</th>\n",
       "      <td>Super Mario Land 2: 6 Golden Coins</td>\n",
       "      <td>11.180</td>\n",
       "    </tr>\n",
       "    <tr>\n",
       "      <th>1993</th>\n",
       "      <td>Super Mario All-Stars</td>\n",
       "      <td>10.550</td>\n",
       "    </tr>\n",
       "    <tr>\n",
       "      <th>1994</th>\n",
       "      <td>Donkey Kong Country</td>\n",
       "      <td>9.300</td>\n",
       "    </tr>\n",
       "    <tr>\n",
       "      <th>1995</th>\n",
       "      <td>Donkey Kong Country 2: Diddy's Kong Quest</td>\n",
       "      <td>5.150</td>\n",
       "    </tr>\n",
       "    <tr>\n",
       "      <th>1996</th>\n",
       "      <td>Pokemon Red/Pokemon Blue</td>\n",
       "      <td>31.370</td>\n",
       "    </tr>\n",
       "    <tr>\n",
       "      <th>1997</th>\n",
       "      <td>Gran Turismo</td>\n",
       "      <td>10.950</td>\n",
       "    </tr>\n",
       "    <tr>\n",
       "      <th>1998</th>\n",
       "      <td>Pokémon Yellow: Special Pikachu Edition</td>\n",
       "      <td>14.640</td>\n",
       "    </tr>\n",
       "    <tr>\n",
       "      <th>1999</th>\n",
       "      <td>Pokemon Gold/Pokemon Silver</td>\n",
       "      <td>23.100</td>\n",
       "    </tr>\n",
       "    <tr>\n",
       "      <th>2000</th>\n",
       "      <td>Pokémon Crystal Version</td>\n",
       "      <td>6.390</td>\n",
       "    </tr>\n",
       "    <tr>\n",
       "      <th>2001</th>\n",
       "      <td>Gran Turismo 3: A-Spec</td>\n",
       "      <td>14.980</td>\n",
       "    </tr>\n",
       "    <tr>\n",
       "      <th>2002</th>\n",
       "      <td>Grand Theft Auto: Vice City</td>\n",
       "      <td>16.150</td>\n",
       "    </tr>\n",
       "    <tr>\n",
       "      <th>2003</th>\n",
       "      <td>Mario Kart: Double Dash!!</td>\n",
       "      <td>6.950</td>\n",
       "    </tr>\n",
       "    <tr>\n",
       "      <th>2004</th>\n",
       "      <td>Grand Theft Auto: San Andreas</td>\n",
       "      <td>20.810</td>\n",
       "    </tr>\n",
       "    <tr>\n",
       "      <th>2005</th>\n",
       "      <td>Nintendogs</td>\n",
       "      <td>24.760</td>\n",
       "    </tr>\n",
       "    <tr>\n",
       "      <th>2006</th>\n",
       "      <td>Wii Sports</td>\n",
       "      <td>82.740</td>\n",
       "    </tr>\n",
       "    <tr>\n",
       "      <th>2007</th>\n",
       "      <td>Wii Fit</td>\n",
       "      <td>22.720</td>\n",
       "    </tr>\n",
       "    <tr>\n",
       "      <th>2008</th>\n",
       "      <td>Mario Kart Wii</td>\n",
       "      <td>35.820</td>\n",
       "    </tr>\n",
       "    <tr>\n",
       "      <th>2009</th>\n",
       "      <td>Wii Sports Resort</td>\n",
       "      <td>33.000</td>\n",
       "    </tr>\n",
       "    <tr>\n",
       "      <th>2010</th>\n",
       "      <td>Kinect Adventures!</td>\n",
       "      <td>21.820</td>\n",
       "    </tr>\n",
       "    <tr>\n",
       "      <th>2011</th>\n",
       "      <td>Mario Kart 7</td>\n",
       "      <td>12.210</td>\n",
       "    </tr>\n",
       "    <tr>\n",
       "      <th>2012</th>\n",
       "      <td>New Super Mario Bros. 2</td>\n",
       "      <td>9.820</td>\n",
       "    </tr>\n",
       "    <tr>\n",
       "      <th>2013</th>\n",
       "      <td>Grand Theft Auto V</td>\n",
       "      <td>18.890</td>\n",
       "    </tr>\n",
       "    <tr>\n",
       "      <th>2014</th>\n",
       "      <td>Pokemon Omega Ruby/Pokemon Alpha Sapphire</td>\n",
       "      <td>11.330</td>\n",
       "    </tr>\n",
       "    <tr>\n",
       "      <th>2015</th>\n",
       "      <td>Call of Duty: Black Ops 3</td>\n",
       "      <td>5.064</td>\n",
       "    </tr>\n",
       "    <tr>\n",
       "      <th>2016</th>\n",
       "      <td>Uncharted 4: A Thief's End</td>\n",
       "      <td>4.200</td>\n",
       "    </tr>\n",
       "  </tbody>\n",
       "</table>\n",
       "</div>"
      ],
      "text/plain": [
       "                                           Game  Global Sales\n",
       "Year                                                         \n",
       "1980                                  Asteroids         4.310\n",
       "1981                                   Pitfall!         4.500\n",
       "1982                                    Pac-Man         7.810\n",
       "1983                                   Baseball         3.200\n",
       "1984                                  Duck Hunt        28.310\n",
       "1985                          Super Mario Bros.        40.240\n",
       "1986                        The Legend of Zelda         6.510\n",
       "1987            Zelda II: The Adventure of Link         4.380\n",
       "1988                        Super Mario Bros. 3        17.280\n",
       "1989                                     Tetris        30.260\n",
       "1990                          Super Mario World        20.610\n",
       "1991    The Legend of Zelda: A Link to the Past         4.610\n",
       "1992         Super Mario Land 2: 6 Golden Coins        11.180\n",
       "1993                      Super Mario All-Stars        10.550\n",
       "1994                        Donkey Kong Country         9.300\n",
       "1995  Donkey Kong Country 2: Diddy's Kong Quest         5.150\n",
       "1996                   Pokemon Red/Pokemon Blue        31.370\n",
       "1997                               Gran Turismo        10.950\n",
       "1998    Pokémon Yellow: Special Pikachu Edition        14.640\n",
       "1999                Pokemon Gold/Pokemon Silver        23.100\n",
       "2000                    Pokémon Crystal Version         6.390\n",
       "2001                     Gran Turismo 3: A-Spec        14.980\n",
       "2002                Grand Theft Auto: Vice City        16.150\n",
       "2003                  Mario Kart: Double Dash!!         6.950\n",
       "2004              Grand Theft Auto: San Andreas        20.810\n",
       "2005                                 Nintendogs        24.760\n",
       "2006                                 Wii Sports        82.740\n",
       "2007                                    Wii Fit        22.720\n",
       "2008                             Mario Kart Wii        35.820\n",
       "2009                          Wii Sports Resort        33.000\n",
       "2010                         Kinect Adventures!        21.820\n",
       "2011                               Mario Kart 7        12.210\n",
       "2012                    New Super Mario Bros. 2         9.820\n",
       "2013                         Grand Theft Auto V        18.890\n",
       "2014  Pokemon Omega Ruby/Pokemon Alpha Sapphire        11.330\n",
       "2015                  Call of Duty: Black Ops 3         5.064\n",
       "2016                 Uncharted 4: A Thief's End         4.200"
      ]
     },
     "execution_count": 126,
     "metadata": {},
     "output_type": "execute_result"
    }
   ],
   "source": [
    "table = dataset.pivot_table('Global_Sales', index='Name', columns='Year')\n",
    "table.columns = table.columns.astype(int)\n",
    "games = table.idxmax()\n",
    "sales = table.max()\n",
    "years = table.columns\n",
    "data = pd.concat([games, sales], axis=1)\n",
    "data.columns = ['Game', 'Global Sales']\n",
    "\n",
    "\n",
    "colors = sns.color_palette(\"GnBu_d\", len(years))\n",
    "plt.figure(figsize=(12,8))\n",
    "ax = sns.barplot(y = years , x = 'Global Sales', data=data, orient='h', palette=colors)\n",
    "ax.set_xlabel(xlabel='Global Sales Per Year', fontsize=16)\n",
    "ax.set_ylabel(ylabel='Year', fontsize=16)\n",
    "ax.set_title(label='Highest Revenue Per Game in $ Millions Per Year', fontsize=20)\n",
    "plt.show();\n",
    "data"
   ]
  },
  {
   "cell_type": "markdown",
   "metadata": {},
   "source": [
    "---"
   ]
  },
  {
   "cell_type": "markdown",
   "metadata": {},
   "source": [
    "Below, we check the publishers games releases. We do this in two steps.\n",
    "1. We check the most 10 games releases to see if there is any unreasonable high number.\n",
    "2. We check if the least 10 games publishers have any zero of negative or unreasonable values"
   ]
  },
  {
   "cell_type": "code",
   "execution_count": 127,
   "metadata": {},
   "outputs": [
    {
     "data": {
      "image/png": "[encoded data removed]",
      "text/plain": [
       "<Figure size 864x576 with 1 Axes>"
      ]
     },
     "metadata": {
      "needs_background": "light"
     },
     "output_type": "display_data"
    }
   ],
   "source": [
    "data = dataset.groupby(['Publisher']).count().iloc[:,0]\n",
    "data = pd.DataFrame(data.sort_values(ascending=False))[:10]\n",
    "publishers = data.index\n",
    "data.columns = ['Releases']\n",
    "\n",
    "colors = sns.color_palette(\"spring\", len(data))\n",
    "plt.figure(figsize=(12,8))\n",
    "ax = sns.barplot(y = publishers , x = 'Releases', data=data, orient='h', palette=colors)\n",
    "ax.set_xlabel(xlabel='Number of Releases', fontsize=16)\n",
    "ax.set_ylabel(ylabel='Publisher', fontsize=16)\n",
    "ax.set_title(label='Top 10 Total Publisher Games Released', fontsize=20)\n",
    "ax.set_yticklabels(labels = publishers, fontsize=14)\n",
    "plt.show();"
   ]
  },
  {
   "cell_type": "code",
   "execution_count": 128,
   "metadata": {},
   "outputs": [
    {
     "data": {
      "image/png": "[encoded data removed]",
      "text/plain": [
       "<Figure size 864x576 with 1 Axes>"
      ]
     },
     "metadata": {
      "needs_background": "light"
     },
     "output_type": "display_data"
    }
   ],
   "source": [
    "data = dataset.groupby(['Publisher']).count().iloc[:,0]\n",
    "data = pd.DataFrame(data.sort_values(ascending=True))[:10]\n",
    "publishers = data.index\n",
    "data.columns = ['Releases']\n",
    "\n",
    "colors = sns.color_palette(\"spring\", len(data))\n",
    "plt.figure(figsize=(12,8))\n",
    "ax = sns.barplot(y = publishers , x = 'Releases', data=data, orient='h', palette=colors)\n",
    "ax.set_xlabel(xlabel='Number of Releases', fontsize=16)\n",
    "ax.set_ylabel(ylabel='Publisher', fontsize=16)\n",
    "ax.set_title(label='Top 10 Total Publisher Games Released', fontsize=20)\n",
    "ax.set_yticklabels(labels = publishers, fontsize=14)\n",
    "plt.show();"
   ]
  },
  {
   "cell_type": "markdown",
   "metadata": {},
   "source": [
    "It seems that numbers are quite sound. No publisher has any unreasonable value. \n",
    "We then continue our analysis"
   ]
  },
  {
   "cell_type": "markdown",
   "metadata": {},
   "source": [
    "---"
   ]
  },
  {
   "cell_type": "markdown",
   "metadata": {},
   "source": [
    "Finally, we check the heat map to get an insight about the correlation of the features."
   ]
  },
  {
   "cell_type": "code",
   "execution_count": 129,
   "metadata": {
    "execution": {
     "iopub.execute_input": "2020-09-06T19:26:47.383035Z",
     "iopub.status.busy": "2020-09-06T19:26:47.377795Z",
     "iopub.status.idle": "2020-09-06T19:26:47.387880Z",
     "shell.execute_reply": "2020-09-06T19:26:47.387320Z"
    },
    "papermill": {
     "duration": 0.039436,
     "end_time": "2020-09-06T19:26:47.387998",
     "exception": false,
     "start_time": "2020-09-06T19:26:47.348562",
     "status": "completed"
    },
    "tags": []
   },
   "outputs": [
    {
     "name": "stdout",
     "output_type": "stream",
     "text": [
      "['Wii Sports' 26 2006.0 10 359 41.49 29.02 3.77 8.46]\n",
      "[8.274e+01 4.024e+01 3.582e+01 ... 1.000e-02 1.000e-02 1.000e-02]\n"
     ]
    }
   ],
   "source": [
    "## Defining the features and the dependent variable\n",
    "x = dataset.iloc[:,1:-1].values\n",
    "y = dataset.iloc[:,-1].values\n",
    "print(x[0])\n",
    "print(y)"
   ]
  },
  {
   "cell_type": "code",
   "execution_count": 130,
   "metadata": {
    "execution": {
     "iopub.execute_input": "2020-09-06T19:26:47.441757Z",
     "iopub.status.busy": "2020-09-06T19:26:47.436715Z",
     "iopub.status.idle": "2020-09-06T19:26:47.973206Z",
     "shell.execute_reply": "2020-09-06T19:26:47.972634Z"
    },
    "papermill": {
     "duration": 0.564603,
     "end_time": "2020-09-06T19:26:47.973313",
     "exception": false,
     "start_time": "2020-09-06T19:26:47.408710",
     "status": "completed"
    },
    "scrolled": false,
    "tags": []
   },
   "outputs": [
    {
     "data": {
      "image/png": "[encoded data removed]",
      "text/plain": [
       "<Figure size 720x720 with 2 Axes>"
      ]
     },
     "metadata": {
      "needs_background": "light"
     },
     "output_type": "display_data"
    }
   ],
   "source": [
    "## Determining the relevancy of features using heatmap in calculating the outcome variable\n",
    "corrmat = dataset.corr()\n",
    "top_corr_features = corrmat.index\n",
    "plt.figure(figsize=(10,10))\n",
    "#Plotting heat map\n",
    "g=sns.heatmap(dataset[top_corr_features].corr(),annot=True,linewidths=.5)\n",
    "b, t = plt.ylim() # Finding the values for bottom and top\n",
    "b += 0.5 \n",
    "t -= 0.5 \n",
    "plt.ylim(b, t) \n",
    "plt.show() "
   ]
  },
  {
   "cell_type": "markdown",
   "metadata": {},
   "source": [
    "Retaining only the useful features of the dataset, we can decipher that the columns `NA_Sales`, `JP_Sales`, `EU_Sales` and `other_Sales` are the most useful features in determining the global sales from the heatmap"
   ]
  },
  {
   "cell_type": "code",
   "execution_count": 172,
   "metadata": {
    "execution": {
     "iopub.execute_input": "2020-09-06T19:26:48.028891Z",
     "iopub.status.busy": "2020-09-06T19:26:48.028214Z",
     "iopub.status.idle": "2020-09-06T19:26:48.032134Z",
     "shell.execute_reply": "2020-09-06T19:26:48.031262Z"
    },
    "papermill": {
     "duration": 0.03649,
     "end_time": "2020-09-06T19:26:48.032270",
     "exception": false,
     "start_time": "2020-09-06T19:26:47.995780",
     "status": "completed"
    },
    "tags": []
   },
   "outputs": [
    {
     "name": "stdout",
     "output_type": "stream",
     "text": [
      "[41.49 29.02  3.77  8.46]\n"
     ]
    }
   ],
   "source": [
    "x = dataset.iloc[:,6:-1].values\n",
    "print(x[0])"
   ]
  },
  {
   "cell_type": "markdown",
   "metadata": {},
   "source": [
    "---"
   ]
  },
  {
   "cell_type": "code",
   "execution_count": 173,
   "metadata": {
    "execution": {
     "iopub.execute_input": "2020-09-06T19:27:47.247167Z",
     "iopub.status.busy": "2020-09-06T19:27:47.246126Z",
     "iopub.status.idle": "2020-09-06T19:27:47.254365Z",
     "shell.execute_reply": "2020-09-06T19:27:47.253683Z"
    },
    "papermill": {
     "duration": 0.039933,
     "end_time": "2020-09-06T19:27:47.254526",
     "exception": false,
     "start_time": "2020-09-06T19:27:47.214593",
     "status": "completed"
    },
    "tags": []
   },
   "outputs": [],
   "source": [
    "## Feature Scaling\n",
    "from sklearn.preprocessing import StandardScaler\n",
    "sc_x = StandardScaler()\n",
    "x_train = sc_x.fit_transform(x_train)\n",
    "x_test = sc_x.transform(x_test)\n",
    "sc_y = StandardScaler()\n",
    "y_train = sc_y.fit_transform(np.reshape(y_train,(len(y_train),1)))\n",
    "y_test = sc_y.transform(np.reshape(y_test,(len(y_test),1)))"
   ]
  },
  {
   "cell_type": "code",
   "execution_count": 174,
   "metadata": {
    "execution": {
     "iopub.execute_input": "2020-09-06T19:27:47.338322Z",
     "iopub.status.busy": "2020-09-06T19:27:47.337461Z",
     "iopub.status.idle": "2020-09-06T19:27:47.345383Z",
     "shell.execute_reply": "2020-09-06T19:27:47.344711Z"
    },
    "papermill": {
     "duration": 0.052097,
     "end_time": "2020-09-06T19:27:47.345537",
     "exception": false,
     "start_time": "2020-09-06T19:27:47.293440",
     "status": "completed"
    },
    "tags": []
   },
   "outputs": [
    {
     "name": "stdout",
     "output_type": "stream",
     "text": [
      "[[-0.32245605 -0.28380822 -0.0924089  -0.2463181 ]\n",
      " [-0.32245605 -0.26464499 -0.24818527 -0.2463181 ]\n",
      " [-0.27388072 -0.22631852 -0.24818527 -0.19574005]\n",
      " ...\n",
      " [-0.24959306 -0.20715529 -0.24818527 -0.19574005]\n",
      " [-0.24959306 -0.24548175 -0.24818527 -0.145162  ]\n",
      " [ 0.49118064 -0.26464499 -0.24818527  0.05715021]]\n",
      "[[-0.20101773 -0.20715529 -0.24818527 -0.19574005]\n",
      " [ 1.21981051  0.52104753 -0.24818527  0.10772826]\n",
      " [ 0.15115337  0.0228035  -0.24818527 -0.145162  ]\n",
      " ...\n",
      " [-0.32245605 -0.28380822 -0.18587472 -0.2463181 ]\n",
      " [-0.29816838 -0.28380822 -0.24818527 -0.2463181 ]\n",
      " [-0.14029858 -0.28380822 -0.24818527 -0.19574005]]\n",
      "[[-0.23907869]\n",
      " [ 0.76152761]\n",
      " [ 0.01732668]\n",
      " ...\n",
      " [-0.32663174]\n",
      " [-0.32663174]\n",
      " [-0.23907869]]\n",
      "[[-0.30787037]\n",
      " [-0.33288553]\n",
      " [-0.289109  ]\n",
      " ...\n",
      " [-0.27034763]\n",
      " [-0.28285521]\n",
      " [ 0.1236411 ]]\n"
     ]
    }
   ],
   "source": [
    "print(x_train)\n",
    "print(x_test)\n",
    "print(y_test)\n",
    "print(y_train)"
   ]
  },
  {
   "cell_type": "markdown",
   "metadata": {},
   "source": [
    "Now that we have done alot of data preparation, investigation, and pre-processing, we Start training our models using different models with different parameters. But first, we split the data into train and test splits"
   ]
  },
  {
   "cell_type": "code",
   "execution_count": 175,
   "metadata": {
    "execution": {
     "iopub.execute_input": "2020-09-06T19:26:48.084313Z",
     "iopub.status.busy": "2020-09-06T19:26:48.083713Z",
     "iopub.status.idle": "2020-09-06T19:26:48.242076Z",
     "shell.execute_reply": "2020-09-06T19:26:48.241363Z"
    },
    "papermill": {
     "duration": 0.185778,
     "end_time": "2020-09-06T19:26:48.242190",
     "exception": false,
     "start_time": "2020-09-06T19:26:48.056412",
     "status": "completed"
    },
    "tags": []
   },
   "outputs": [],
   "source": [
    "## Splitting the dataset into independent and dependent vaiables\n",
    "from sklearn.model_selection import train_test_split\n",
    "x_train,x_test,y_train,y_test = train_test_split(x,y,test_size=0.2,random_state=0)"
   ]
  },
  {
   "cell_type": "code",
   "execution_count": 176,
   "metadata": {
    "execution": {
     "iopub.execute_input": "2020-09-06T19:26:48.295064Z",
     "iopub.status.busy": "2020-09-06T19:26:48.294157Z",
     "iopub.status.idle": "2020-09-06T19:26:48.301351Z",
     "shell.execute_reply": "2020-09-06T19:26:48.300523Z"
    },
    "papermill": {
     "duration": 0.036284,
     "end_time": "2020-09-06T19:26:48.301517",
     "exception": false,
     "start_time": "2020-09-06T19:26:48.265233",
     "status": "completed"
    },
    "scrolled": true,
    "tags": []
   },
   "outputs": [
    {
     "name": "stdout",
     "output_type": "stream",
     "text": [
      "[[0.   0.   0.05 0.  ]\n",
      " [0.   0.01 0.   0.  ]\n",
      " [0.04 0.03 0.   0.01]\n",
      " ...\n",
      " [0.06 0.04 0.   0.01]\n",
      " [0.06 0.02 0.   0.02]\n",
      " [0.67 0.01 0.   0.06]]\n",
      "[[0.1  0.04 0.   0.01]\n",
      " [1.27 0.42 0.   0.07]\n",
      " [0.39 0.16 0.   0.02]\n",
      " ...\n",
      " [0.   0.   0.02 0.  ]\n",
      " [0.02 0.   0.   0.  ]\n",
      " [0.15 0.   0.   0.01]]\n",
      "[0.05 0.01 0.08 ... 0.11 0.09 0.74]\n",
      "[0.16 1.76 0.57 ... 0.02 0.02 0.16]\n"
     ]
    }
   ],
   "source": [
    "print(x_train)\n",
    "print(x_test)\n",
    "print(y_train)\n",
    "print(y_test)"
   ]
  },
  {
   "cell_type": "markdown",
   "metadata": {
    "papermill": {
     "duration": 0.022546,
     "end_time": "2020-09-06T19:26:48.347845",
     "exception": false,
     "start_time": "2020-09-06T19:26:48.325299",
     "status": "completed"
    },
    "tags": []
   },
   "source": [
    "---"
   ]
  },
  {
   "cell_type": "markdown",
   "metadata": {},
   "source": [
    "Now, we start training using different models and different parameters. We'll store the R2 Score and the loss for comparison with other models or algorithms at the end of the notebook."
   ]
  },
  {
   "cell_type": "markdown",
   "metadata": {
    "papermill": {
     "duration": 0.02378,
     "end_time": "2020-09-06T19:26:48.394590",
     "exception": false,
     "start_time": "2020-09-06T19:26:48.370810",
     "status": "completed"
    },
    "tags": []
   },
   "source": [
    "### Multiple Linear Regression"
   ]
  },
  {
   "cell_type": "code",
   "execution_count": 177,
   "metadata": {
    "execution": {
     "iopub.execute_input": "2020-09-06T19:26:48.447837Z",
     "iopub.status.busy": "2020-09-06T19:26:48.447195Z",
     "iopub.status.idle": "2020-09-06T19:26:48.600911Z",
     "shell.execute_reply": "2020-09-06T19:26:48.600242Z"
    },
    "papermill": {
     "duration": 0.182343,
     "end_time": "2020-09-06T19:26:48.601051",
     "exception": false,
     "start_time": "2020-09-06T19:26:48.418708",
     "status": "completed"
    },
    "tags": []
   },
   "outputs": [
    {
     "data": {
      "text/plain": [
       "LinearRegression()"
      ]
     },
     "execution_count": 177,
     "metadata": {},
     "output_type": "execute_result"
    }
   ],
   "source": [
    "## Training the multiple linear regression on the training set\n",
    "from sklearn.linear_model import LinearRegression\n",
    "regressor_MultiLinear = LinearRegression()\n",
    "regressor_MultiLinear.fit(x_train,y_train)"
   ]
  },
  {
   "cell_type": "code",
   "execution_count": 178,
   "metadata": {
    "execution": {
     "iopub.execute_input": "2020-09-06T19:26:48.673890Z",
     "iopub.status.busy": "2020-09-06T19:26:48.672943Z",
     "iopub.status.idle": "2020-09-06T19:26:48.677245Z",
     "shell.execute_reply": "2020-09-06T19:26:48.677949Z"
    },
    "papermill": {
     "duration": 0.044865,
     "end_time": "2020-09-06T19:26:48.678094",
     "exception": false,
     "start_time": "2020-09-06T19:26:48.633229",
     "status": "completed"
    },
    "tags": []
   },
   "outputs": [],
   "source": [
    "## Predicting test results\n",
    "y_pred = regressor_MultiLinear.predict(x_test)"
   ]
  },
  {
   "cell_type": "code",
   "execution_count": 179,
   "metadata": {
    "execution": {
     "iopub.execute_input": "2020-09-06T19:26:48.753399Z",
     "iopub.status.busy": "2020-09-06T19:26:48.752371Z",
     "iopub.status.idle": "2020-09-06T19:26:48.758260Z",
     "shell.execute_reply": "2020-09-06T19:26:48.757592Z"
    },
    "papermill": {
     "duration": 0.045728,
     "end_time": "2020-09-06T19:26:48.758381",
     "exception": false,
     "start_time": "2020-09-06T19:26:48.712653",
     "status": "completed"
    },
    "tags": []
   },
   "outputs": [
    {
     "name": "stdout",
     "output_type": "stream",
     "text": [
      "0.99998698585513\n"
     ]
    }
   ],
   "source": [
    "# Calculating r2 score\n",
    "from sklearn.metrics import r2_score\n",
    "r2_MultiLinear = r2_score(y_test,y_pred)\n",
    "print(r2_MultiLinear)"
   ]
  },
  {
   "cell_type": "code",
   "execution_count": 180,
   "metadata": {},
   "outputs": [
    {
     "name": "stdout",
     "output_type": "stream",
     "text": [
      "2.677398983414049e-05\n"
     ]
    }
   ],
   "source": [
    "from sklearn.metrics import mean_squared_error\n",
    "mse_MultiLinear = mean_squared_error(y_test,y_pred)\n",
    "print(mse_MultiLinear)"
   ]
  },
  {
   "cell_type": "markdown",
   "metadata": {
    "papermill": {
     "duration": 0.034549,
     "end_time": "2020-09-06T19:26:48.827834",
     "exception": false,
     "start_time": "2020-09-06T19:26:48.793285",
     "status": "completed"
    },
    "tags": []
   },
   "source": [
    "----"
   ]
  },
  {
   "cell_type": "markdown",
   "metadata": {
    "papermill": {
     "duration": 0.034351,
     "end_time": "2020-09-06T19:26:48.897022",
     "exception": false,
     "start_time": "2020-09-06T19:26:48.862671",
     "status": "completed"
    },
    "tags": []
   },
   "source": [
    "### Polynomial Regression"
   ]
  },
  {
   "cell_type": "code",
   "execution_count": 181,
   "metadata": {
    "execution": {
     "iopub.execute_input": "2020-09-06T19:26:48.976655Z",
     "iopub.status.busy": "2020-09-06T19:26:48.975955Z",
     "iopub.status.idle": "2020-09-06T19:26:49.368764Z",
     "shell.execute_reply": "2020-09-06T19:26:49.367836Z"
    },
    "papermill": {
     "duration": 0.437431,
     "end_time": "2020-09-06T19:26:49.368893",
     "exception": false,
     "start_time": "2020-09-06T19:26:48.931462",
     "status": "completed"
    },
    "tags": []
   },
   "outputs": [
    {
     "data": {
      "image/png": "[encoded data removed]",
      "text/plain": [
       "<Figure size 432x288 with 1 Axes>"
      ]
     },
     "metadata": {},
     "output_type": "display_data"
    }
   ],
   "source": [
    "## Finding out the optimal degree of polynomial regression\n",
    "from sklearn.preprocessing import PolynomialFeatures\n",
    "sns.set_style('darkgrid')\n",
    "scores_list = []\n",
    "pRange = range(2,6)\n",
    "for i in pRange :\n",
    "    poly_reg = PolynomialFeatures(degree=i)\n",
    "    x_poly = poly_reg.fit_transform(x_train)\n",
    "    poly_regressor = LinearRegression()\n",
    "    poly_regressor.fit(x_poly,y_train)\n",
    "    y_pred = poly_regressor.predict(poly_reg.fit_transform(x_test))\n",
    "    scores_list.append(r2_score(y_test,y_pred))\n",
    "plt.plot(pRange,scores_list,linewidth=2)\n",
    "plt.xlabel('Degree of polynomial')\n",
    "plt.ylabel('r2 score with varying degrees')\n",
    "plt.show()"
   ]
  },
  {
   "cell_type": "code",
   "execution_count": 182,
   "metadata": {
    "execution": {
     "iopub.execute_input": "2020-09-06T19:26:49.447087Z",
     "iopub.status.busy": "2020-09-06T19:26:49.446426Z",
     "iopub.status.idle": "2020-09-06T19:26:49.459571Z",
     "shell.execute_reply": "2020-09-06T19:26:49.458929Z"
    },
    "papermill": {
     "duration": 0.054822,
     "end_time": "2020-09-06T19:26:49.459681",
     "exception": false,
     "start_time": "2020-09-06T19:26:49.404859",
     "status": "completed"
    },
    "tags": []
   },
   "outputs": [
    {
     "name": "stdout",
     "output_type": "stream",
     "text": [
      "0.9999869666165205\n"
     ]
    }
   ],
   "source": [
    "## Training the polynomial regression on the training model\n",
    "poly_reg = PolynomialFeatures(degree=2)\n",
    "x_poly = poly_reg.fit_transform(x_train)\n",
    "poly_regressor = LinearRegression()\n",
    "poly_regressor.fit(x_poly,y_train)\n",
    "y_pred = poly_regressor.predict(poly_reg.fit_transform(x_test))\n",
    "r2_poly = r2_score(y_test,y_pred)\n",
    "print(r2_poly)"
   ]
  },
  {
   "cell_type": "code",
   "execution_count": 183,
   "metadata": {},
   "outputs": [
    {
     "name": "stdout",
     "output_type": "stream",
     "text": [
      "2.6813569410063173e-05\n"
     ]
    }
   ],
   "source": [
    "mse_regressor = mean_squared_error(y_test,y_pred)\n",
    "print(mse_regressor)"
   ]
  },
  {
   "cell_type": "markdown",
   "metadata": {
    "papermill": {
     "duration": 0.023059,
     "end_time": "2020-09-06T19:26:49.506805",
     "exception": false,
     "start_time": "2020-09-06T19:26:49.483746",
     "status": "completed"
    },
    "tags": []
   },
   "source": [
    "---"
   ]
  },
  {
   "cell_type": "markdown",
   "metadata": {
    "papermill": {
     "duration": 0.035274,
     "end_time": "2020-09-06T19:26:49.575633",
     "exception": false,
     "start_time": "2020-09-06T19:26:49.540359",
     "status": "completed"
    },
    "tags": []
   },
   "source": [
    "### K-Nearest Neighbors Regression"
   ]
  },
  {
   "cell_type": "code",
   "execution_count": 184,
   "metadata": {
    "execution": {
     "iopub.execute_input": "2020-09-06T19:26:49.657036Z",
     "iopub.status.busy": "2020-09-06T19:26:49.655234Z",
     "iopub.status.idle": "2020-09-06T19:26:51.032417Z",
     "shell.execute_reply": "2020-09-06T19:26:51.031914Z"
    },
    "papermill": {
     "duration": 1.421627,
     "end_time": "2020-09-06T19:26:51.032563",
     "exception": false,
     "start_time": "2020-09-06T19:26:49.610936",
     "status": "completed"
    },
    "tags": []
   },
   "outputs": [
    {
     "data": {
      "image/png": "[encoded data removed]",
      "text/plain": [
       "<Figure size 432x288 with 1 Axes>"
      ]
     },
     "metadata": {},
     "output_type": "display_data"
    }
   ],
   "source": [
    "## Finding the optimal number of neighbors for KNN regression\n",
    "from sklearn.neighbors import KNeighborsRegressor\n",
    "knnRange = range(1,11,1)\n",
    "scores_list = []\n",
    "for i in knnRange:\n",
    "    regressor_knn = KNeighborsRegressor(n_neighbors=i)\n",
    "    regressor_knn.fit(x_train,y_train)\n",
    "    y_pred = regressor_knn.predict(x_test)\n",
    "    scores_list.append(r2_score(y_test,y_pred))\n",
    "plt.plot(knnRange,scores_list,linewidth=2,color='green')\n",
    "plt.xticks(knnRange)\n",
    "plt.xlabel('No. of neighbors')\n",
    "plt.ylabel('r2 score of KNN')\n",
    "plt.show()    "
   ]
  },
  {
   "cell_type": "code",
   "execution_count": 185,
   "metadata": {
    "execution": {
     "iopub.execute_input": "2020-09-06T19:26:51.135306Z",
     "iopub.status.busy": "2020-09-06T19:26:51.134694Z",
     "iopub.status.idle": "2020-09-06T19:26:51.184942Z",
     "shell.execute_reply": "2020-09-06T19:26:51.184283Z"
    },
    "papermill": {
     "duration": 0.128332,
     "end_time": "2020-09-06T19:26:51.185049",
     "exception": false,
     "start_time": "2020-09-06T19:26:51.056717",
     "status": "completed"
    },
    "tags": []
   },
   "outputs": [
    {
     "name": "stdout",
     "output_type": "stream",
     "text": [
      "0.9962866140312201\n"
     ]
    }
   ],
   "source": [
    "# Training the KNN model on the training set\n",
    "regressor_knn = KNeighborsRegressor(n_neighbors=7)\n",
    "regressor_knn.fit(x_train,y_train)\n",
    "y_pred = regressor_knn.predict(x_test)\n",
    "r2_knn = r2_score(y_test,y_pred)\n",
    "print(r2_knn)"
   ]
  },
  {
   "cell_type": "code",
   "execution_count": 186,
   "metadata": {},
   "outputs": [
    {
     "name": "stdout",
     "output_type": "stream",
     "text": [
      "0.007639545984139509\n"
     ]
    }
   ],
   "source": [
    "mse_knn = mean_squared_error(y_test,y_pred)\n",
    "print(mse_knn)"
   ]
  },
  {
   "cell_type": "markdown",
   "metadata": {
    "papermill": {
     "duration": 0.024424,
     "end_time": "2020-09-06T19:26:51.234453",
     "exception": false,
     "start_time": "2020-09-06T19:26:51.210029",
     "status": "completed"
    },
    "tags": []
   },
   "source": [
    "---"
   ]
  },
  {
   "cell_type": "markdown",
   "metadata": {
    "papermill": {
     "duration": 0.036898,
     "end_time": "2020-09-06T19:27:47.419672",
     "exception": false,
     "start_time": "2020-09-06T19:27:47.382774",
     "status": "completed"
    },
    "tags": []
   },
   "source": [
    "### Linear Support Vector Regression"
   ]
  },
  {
   "cell_type": "code",
   "execution_count": 187,
   "metadata": {
    "execution": {
     "iopub.execute_input": "2020-09-06T19:27:47.500525Z",
     "iopub.status.busy": "2020-09-06T19:27:47.499715Z",
     "iopub.status.idle": "2020-09-06T19:27:47.916883Z",
     "shell.execute_reply": "2020-09-06T19:27:47.916181Z"
    },
    "papermill": {
     "duration": 0.460178,
     "end_time": "2020-09-06T19:27:47.917027",
     "exception": false,
     "start_time": "2020-09-06T19:27:47.456849",
     "status": "completed"
    },
    "tags": []
   },
   "outputs": [
    {
     "data": {
      "text/plain": [
       "SVR(kernel='linear')"
      ]
     },
     "execution_count": 187,
     "metadata": {},
     "output_type": "execute_result"
    }
   ],
   "source": [
    "## Training the Linear SVR model on the training set\n",
    "from sklearn.svm import SVR\n",
    "regressor_SVR = SVR(kernel='linear')\n",
    "regressor_SVR.fit(x_train,y_train)"
   ]
  },
  {
   "cell_type": "code",
   "execution_count": 188,
   "metadata": {
    "execution": {
     "iopub.execute_input": "2020-09-06T19:27:47.997118Z",
     "iopub.status.busy": "2020-09-06T19:27:47.996219Z",
     "iopub.status.idle": "2020-09-06T19:27:48.000563Z",
     "shell.execute_reply": "2020-09-06T19:27:47.999954Z"
    },
    "papermill": {
     "duration": 0.046006,
     "end_time": "2020-09-06T19:27:48.000670",
     "exception": false,
     "start_time": "2020-09-06T19:27:47.954664",
     "status": "completed"
    },
    "tags": []
   },
   "outputs": [],
   "source": [
    "## Predicting test results\n",
    "y_pred = regressor_SVR.predict(x_test)"
   ]
  },
  {
   "cell_type": "code",
   "execution_count": 189,
   "metadata": {
    "execution": {
     "iopub.execute_input": "2020-09-06T19:27:48.055799Z",
     "iopub.status.busy": "2020-09-06T19:27:48.054916Z",
     "iopub.status.idle": "2020-09-06T19:27:48.060605Z",
     "shell.execute_reply": "2020-09-06T19:27:48.059760Z"
    },
    "papermill": {
     "duration": 0.035085,
     "end_time": "2020-09-06T19:27:48.060736",
     "exception": false,
     "start_time": "2020-09-06T19:27:48.025651",
     "status": "completed"
    },
    "tags": []
   },
   "outputs": [
    {
     "name": "stdout",
     "output_type": "stream",
     "text": [
      "0.9968163103604051\n"
     ]
    }
   ],
   "source": [
    "## Calculating r2 score\n",
    "r2_linearSVR = r2_score(y_test,y_pred)\n",
    "print(r2_linearSVR)"
   ]
  },
  {
   "cell_type": "code",
   "execution_count": 190,
   "metadata": {
    "scrolled": true
   },
   "outputs": [
    {
     "name": "stdout",
     "output_type": "stream",
     "text": [
      "0.006549802149682072\n"
     ]
    }
   ],
   "source": [
    "mse_svr = mean_squared_error(y_test,y_pred)\n",
    "print(mse_svr)"
   ]
  },
  {
   "cell_type": "markdown",
   "metadata": {
    "papermill": {
     "duration": 0.024718,
     "end_time": "2020-09-06T19:27:48.111942",
     "exception": false,
     "start_time": "2020-09-06T19:27:48.087224",
     "status": "completed"
    },
    "tags": []
   },
   "source": [
    "---"
   ]
  },
  {
   "cell_type": "markdown",
   "metadata": {
    "papermill": {
     "duration": 0.024702,
     "end_time": "2020-09-06T19:27:48.161645",
     "exception": false,
     "start_time": "2020-09-06T19:27:48.136943",
     "status": "completed"
    },
    "tags": []
   },
   "source": [
    "### Non-linear Support Vector Regression"
   ]
  },
  {
   "cell_type": "code",
   "execution_count": 191,
   "metadata": {
    "execution": {
     "iopub.execute_input": "2020-09-06T19:27:48.218795Z",
     "iopub.status.busy": "2020-09-06T19:27:48.217740Z",
     "iopub.status.idle": "2020-09-06T19:27:48.836956Z",
     "shell.execute_reply": "2020-09-06T19:27:48.836412Z"
    },
    "papermill": {
     "duration": 0.649673,
     "end_time": "2020-09-06T19:27:48.837080",
     "exception": false,
     "start_time": "2020-09-06T19:27:48.187407",
     "status": "completed"
    },
    "tags": []
   },
   "outputs": [
    {
     "data": {
      "text/plain": [
       "SVR()"
      ]
     },
     "execution_count": 191,
     "metadata": {},
     "output_type": "execute_result"
    }
   ],
   "source": [
    "## Training the Non-linear SVR model on the training set\n",
    "from sklearn.svm import SVR\n",
    "regressor_NonLinearSVR = SVR(kernel='rbf')\n",
    "regressor_NonLinearSVR.fit(x_train,y_train)"
   ]
  },
  {
   "cell_type": "code",
   "execution_count": 192,
   "metadata": {
    "execution": {
     "iopub.execute_input": "2020-09-06T19:27:48.932741Z",
     "iopub.status.busy": "2020-09-06T19:27:48.932079Z",
     "iopub.status.idle": "2020-09-06T19:27:48.959738Z",
     "shell.execute_reply": "2020-09-06T19:27:48.959094Z"
    },
    "papermill": {
     "duration": 0.096999,
     "end_time": "2020-09-06T19:27:48.959843",
     "exception": false,
     "start_time": "2020-09-06T19:27:48.862844",
     "status": "completed"
    },
    "tags": []
   },
   "outputs": [],
   "source": [
    "## Predicting test results\n",
    "y_pred = regressor_NonLinearSVR.predict(x_test)"
   ]
  },
  {
   "cell_type": "code",
   "execution_count": 193,
   "metadata": {
    "execution": {
     "iopub.execute_input": "2020-09-06T19:27:49.017195Z",
     "iopub.status.busy": "2020-09-06T19:27:49.016281Z",
     "iopub.status.idle": "2020-09-06T19:27:49.020850Z",
     "shell.execute_reply": "2020-09-06T19:27:49.020198Z"
    },
    "papermill": {
     "duration": 0.035225,
     "end_time": "2020-09-06T19:27:49.020954",
     "exception": false,
     "start_time": "2020-09-06T19:27:48.985729",
     "status": "completed"
    },
    "tags": []
   },
   "outputs": [
    {
     "name": "stdout",
     "output_type": "stream",
     "text": [
      "0.7449832467235064\n"
     ]
    }
   ],
   "source": [
    "## Calculating r2 score\n",
    "r2_NonlinearSVR = r2_score(y_test,y_pred)\n",
    "print(r2_NonlinearSVR)"
   ]
  },
  {
   "cell_type": "code",
   "execution_count": 194,
   "metadata": {},
   "outputs": [
    {
     "name": "stdout",
     "output_type": "stream",
     "text": [
      "0.5246457625900485\n"
     ]
    }
   ],
   "source": [
    "mse_nlsvr = mean_squared_error(y_test,y_pred)\n",
    "print(mse_nlsvr)"
   ]
  },
  {
   "cell_type": "markdown",
   "metadata": {},
   "source": [
    "We Also add some intersting models that are not in our syllabus **only for the sake of comparison**"
   ]
  },
  {
   "cell_type": "markdown",
   "metadata": {
    "papermill": {
     "duration": 0.023305,
     "end_time": "2020-09-06T19:26:51.281829",
     "exception": false,
     "start_time": "2020-09-06T19:26:51.258524",
     "status": "completed"
    },
    "tags": []
   },
   "source": [
    "### Decision Tree Regression"
   ]
  },
  {
   "cell_type": "code",
   "execution_count": 195,
   "metadata": {
    "execution": {
     "iopub.execute_input": "2020-09-06T19:26:51.334386Z",
     "iopub.status.busy": "2020-09-06T19:26:51.333622Z",
     "iopub.status.idle": "2020-09-06T19:26:51.409230Z",
     "shell.execute_reply": "2020-09-06T19:26:51.409786Z"
    },
    "papermill": {
     "duration": 0.104132,
     "end_time": "2020-09-06T19:26:51.409932",
     "exception": false,
     "start_time": "2020-09-06T19:26:51.305800",
     "status": "completed"
    },
    "tags": []
   },
   "outputs": [
    {
     "data": {
      "text/plain": [
       "DecisionTreeRegressor(random_state=0)"
      ]
     },
     "execution_count": 195,
     "metadata": {},
     "output_type": "execute_result"
    }
   ],
   "source": [
    "# Training the Decision Tree regression on the training model\n",
    "from sklearn.tree import DecisionTreeRegressor\n",
    "regressor_Tree = DecisionTreeRegressor(random_state=0)\n",
    "regressor_Tree.fit(x_train,y_train)"
   ]
  },
  {
   "cell_type": "code",
   "execution_count": 196,
   "metadata": {
    "execution": {
     "iopub.execute_input": "2020-09-06T19:26:51.465075Z",
     "iopub.status.busy": "2020-09-06T19:26:51.464180Z",
     "iopub.status.idle": "2020-09-06T19:26:51.468750Z",
     "shell.execute_reply": "2020-09-06T19:26:51.468090Z"
    },
    "papermill": {
     "duration": 0.033759,
     "end_time": "2020-09-06T19:26:51.468860",
     "exception": false,
     "start_time": "2020-09-06T19:26:51.435101",
     "status": "completed"
    },
    "tags": []
   },
   "outputs": [],
   "source": [
    "# Predicting test results\n",
    "y_pred = regressor_Tree.predict(x_test)"
   ]
  },
  {
   "cell_type": "code",
   "execution_count": 197,
   "metadata": {
    "execution": {
     "iopub.execute_input": "2020-09-06T19:26:51.523146Z",
     "iopub.status.busy": "2020-09-06T19:26:51.522449Z",
     "iopub.status.idle": "2020-09-06T19:26:51.526138Z",
     "shell.execute_reply": "2020-09-06T19:26:51.526708Z"
    },
    "papermill": {
     "duration": 0.033497,
     "end_time": "2020-09-06T19:26:51.526847",
     "exception": false,
     "start_time": "2020-09-06T19:26:51.493350",
     "status": "completed"
    },
    "tags": []
   },
   "outputs": [
    {
     "name": "stdout",
     "output_type": "stream",
     "text": [
      "0.9565662626204867\n"
     ]
    }
   ],
   "source": [
    "# Calculating r2 score\n",
    "r2_tree = r2_score(y_test,y_pred)\n",
    "print(r2_tree)"
   ]
  },
  {
   "cell_type": "code",
   "execution_count": 198,
   "metadata": {
    "scrolled": true
   },
   "outputs": [
    {
     "name": "stdout",
     "output_type": "stream",
     "text": [
      "0.08935619317882311\n"
     ]
    }
   ],
   "source": [
    "mse_tree = mean_squared_error(y_test,y_pred)\n",
    "print(mse_tree)"
   ]
  },
  {
   "cell_type": "markdown",
   "metadata": {
    "papermill": {
     "duration": 0.024695,
     "end_time": "2020-09-06T19:26:51.577257",
     "exception": false,
     "start_time": "2020-09-06T19:26:51.552562",
     "status": "completed"
    },
    "tags": []
   },
   "source": [
    "---"
   ]
  },
  {
   "cell_type": "markdown",
   "metadata": {
    "papermill": {
     "duration": 0.024679,
     "end_time": "2020-09-06T19:26:51.626806",
     "exception": false,
     "start_time": "2020-09-06T19:26:51.602127",
     "status": "completed"
    },
    "tags": []
   },
   "source": [
    "### Random Forest Regression"
   ]
  },
  {
   "cell_type": "code",
   "execution_count": 199,
   "metadata": {
    "execution": {
     "iopub.execute_input": "2020-09-06T19:26:51.685951Z",
     "iopub.status.busy": "2020-09-06T19:26:51.684500Z",
     "iopub.status.idle": "2020-09-06T19:27:44.888919Z",
     "shell.execute_reply": "2020-09-06T19:27:44.889432Z"
    },
    "papermill": {
     "duration": 53.238092,
     "end_time": "2020-09-06T19:27:44.889603",
     "exception": false,
     "start_time": "2020-09-06T19:26:51.651511",
     "status": "completed"
    },
    "tags": []
   },
   "outputs": [
    {
     "data": {
      "image/png": "[encoded data removed]",
      "text/plain": [
       "<Figure size 432x288 with 1 Axes>"
      ]
     },
     "metadata": {},
     "output_type": "display_data"
    }
   ],
   "source": [
    "# Finding out the optimal number of trees for Random Forest Regression\n",
    "from sklearn.ensemble import RandomForestRegressor\n",
    "forestRange=range(50,500,50)\n",
    "scores_list=[]\n",
    "for i in forestRange: \n",
    "    regressor_Forest = RandomForestRegressor(n_estimators=i,random_state=0)\n",
    "    regressor_Forest.fit(x_train,y_train)\n",
    "    y_pred = regressor_Forest.predict(x_test)\n",
    "    scores_list.append(r2_score(y_test,y_pred))\n",
    "plt.plot(forestRange,scores_list,linewidth=2,color='maroon')\n",
    "plt.xticks(forestRange)\n",
    "plt.xlabel('No. of trees')\n",
    "plt.ylabel('r2 score of Random Forest Reg.')\n",
    "plt.show()    "
   ]
  },
  {
   "cell_type": "code",
   "execution_count": 200,
   "metadata": {
    "execution": {
     "iopub.execute_input": "2020-09-06T19:27:44.952942Z",
     "iopub.status.busy": "2020-09-06T19:27:44.946738Z",
     "iopub.status.idle": "2020-09-06T19:27:47.139224Z",
     "shell.execute_reply": "2020-09-06T19:27:47.139791Z"
    },
    "papermill": {
     "duration": 2.225841,
     "end_time": "2020-09-06T19:27:47.139930",
     "exception": false,
     "start_time": "2020-09-06T19:27:44.914089",
     "status": "completed"
    },
    "tags": []
   },
   "outputs": [
    {
     "name": "stdout",
     "output_type": "stream",
     "text": [
      "0.9876979895808436\n"
     ]
    }
   ],
   "source": [
    "# Training the Random Forest regression on the training model\n",
    "regressor_Forest = RandomForestRegressor(n_estimators=100,random_state=0)\n",
    "regressor_Forest.fit(x_train,y_train)\n",
    "y_pred = regressor_Forest.predict(x_test)\n",
    "r2_forest = r2_score(y_test,y_pred)\n",
    "print(r2_forest)"
   ]
  },
  {
   "cell_type": "code",
   "execution_count": 201,
   "metadata": {},
   "outputs": [
    {
     "name": "stdout",
     "output_type": "stream",
     "text": [
      "0.025308916197953762\n"
     ]
    }
   ],
   "source": [
    "mse_rforest = mean_squared_error(y_test,y_pred)\n",
    "print(mse_rforest)"
   ]
  },
  {
   "cell_type": "markdown",
   "metadata": {
    "papermill": {
     "duration": 0.025232,
     "end_time": "2020-09-06T19:27:49.071567",
     "exception": false,
     "start_time": "2020-09-06T19:27:49.046335",
     "status": "completed"
    },
    "tags": []
   },
   "source": [
    "---"
   ]
  },
  {
   "cell_type": "code",
   "execution_count": 202,
   "metadata": {
    "execution": {
     "iopub.execute_input": "2020-09-06T19:27:49.130259Z",
     "iopub.status.busy": "2020-09-06T19:27:49.129652Z",
     "iopub.status.idle": "2020-09-06T19:27:50.466235Z",
     "shell.execute_reply": "2020-09-06T19:27:50.466968Z"
    },
    "papermill": {
     "duration": 1.369998,
     "end_time": "2020-09-06T19:27:50.467136",
     "exception": false,
     "start_time": "2020-09-06T19:27:49.097138",
     "status": "completed"
    },
    "tags": []
   },
   "outputs": [
    {
     "data": {
      "text/plain": [
       "XGBRegressor(base_score=0.5, booster='gbtree', colsample_bylevel=1,\n",
       "             colsample_bynode=1, colsample_bytree=1, gamma=0, gpu_id=-1,\n",
       "             importance_type='gain', interaction_constraints='',\n",
       "             learning_rate=0.300000012, max_delta_step=0, max_depth=6,\n",
       "             min_child_weight=1, missing=nan, monotone_constraints='()',\n",
       "             n_estimators=100, n_jobs=4, num_parallel_tree=1, random_state=0,\n",
       "             reg_alpha=0, reg_lambda=1, scale_pos_weight=1, subsample=1,\n",
       "             tree_method='exact', validate_parameters=1, verbosity=None)"
      ]
     },
     "execution_count": 202,
     "metadata": {},
     "output_type": "execute_result"
    }
   ],
   "source": [
    "## Applying XGBoost Regression model on the training set\n",
    "from xgboost import XGBRegressor\n",
    "regressor_xgb = XGBRegressor()\n",
    "regressor_xgb.fit(x_train,y_train)"
   ]
  },
  {
   "cell_type": "code",
   "execution_count": 203,
   "metadata": {
    "execution": {
     "iopub.execute_input": "2020-09-06T19:27:50.548684Z",
     "iopub.status.busy": "2020-09-06T19:27:50.547916Z",
     "iopub.status.idle": "2020-09-06T19:27:50.552465Z",
     "shell.execute_reply": "2020-09-06T19:27:50.553192Z"
    },
    "papermill": {
     "duration": 0.052074,
     "end_time": "2020-09-06T19:27:50.553345",
     "exception": false,
     "start_time": "2020-09-06T19:27:50.501271",
     "status": "completed"
    },
    "tags": []
   },
   "outputs": [],
   "source": [
    "## Predicting test results\n",
    "y_pred = regressor_xgb.predict(x_test)"
   ]
  },
  {
   "cell_type": "code",
   "execution_count": 205,
   "metadata": {
    "execution": {
     "iopub.execute_input": "2020-09-06T19:27:50.627168Z",
     "iopub.status.busy": "2020-09-06T19:27:50.626424Z",
     "iopub.status.idle": "2020-09-06T19:27:50.629379Z",
     "shell.execute_reply": "2020-09-06T19:27:50.629995Z"
    },
    "papermill": {
     "duration": 0.04323,
     "end_time": "2020-09-06T19:27:50.630155",
     "exception": false,
     "start_time": "2020-09-06T19:27:50.586925",
     "status": "completed"
    },
    "tags": []
   },
   "outputs": [
    {
     "name": "stdout",
     "output_type": "stream",
     "text": [
      "0.982996334738089\n"
     ]
    }
   ],
   "source": [
    "## Calculating r2 score\n",
    "r2_xgb = r2_score(y_test,y_pred)\n",
    "print(r2_xgb)"
   ]
  },
  {
   "cell_type": "code",
   "execution_count": 206,
   "metadata": {
    "scrolled": true
   },
   "outputs": [
    {
     "name": "stdout",
     "output_type": "stream",
     "text": [
      "0.03498162694624625\n"
     ]
    }
   ],
   "source": [
    "mse_xgb =  mean_squared_error(y_test,y_pred)\n",
    "print(mse_xgb)"
   ]
  },
  {
   "cell_type": "markdown",
   "metadata": {
    "papermill": {
     "duration": 0.032241,
     "end_time": "2020-09-06T19:27:50.695339",
     "exception": false,
     "start_time": "2020-09-06T19:27:50.663098",
     "status": "completed"
    },
    "tags": []
   },
   "source": [
    "---"
   ]
  },
  {
   "cell_type": "code",
   "execution_count": 207,
   "metadata": {
    "execution": {
     "iopub.execute_input": "2020-09-06T19:27:50.767235Z",
     "iopub.status.busy": "2020-09-06T19:27:50.766391Z",
     "iopub.status.idle": "2020-09-06T19:27:50.771122Z",
     "shell.execute_reply": "2020-09-06T19:27:50.770327Z"
    },
    "papermill": {
     "duration": 0.04331,
     "end_time": "2020-09-06T19:27:50.771258",
     "exception": false,
     "start_time": "2020-09-06T19:27:50.727948",
     "status": "completed"
    },
    "tags": []
   },
   "outputs": [
    {
     "name": "stdout",
     "output_type": "stream",
     "text": [
      "[99.999, 99.999, 99.629, 95.657, 98.77, 99.682, 74.498, 98.3]\n"
     ]
    }
   ],
   "source": [
    "## Comparing the r2 scores of different models\n",
    "labelList = ['Multiple Linear Reg.','Polynomial Reg.','K-NearestNeighbors','Decision Tree','Random Forest',\n",
    "             'Linear SVR','Non-Linear SVR','XGBoost Reg.']\n",
    "mylist = [r2_MultiLinear,r2_poly,r2_knn,r2_tree,r2_forest,r2_linearSVR,r2_NonlinearSVR,r2_xgb]\n",
    "for i in range(0,len(mylist)):\n",
    "    mylist[i]=np.round(mylist[i]*100,decimals=3)\n",
    "print(mylist)"
   ]
  },
  {
   "cell_type": "code",
   "execution_count": 208,
   "metadata": {
    "execution": {
     "iopub.execute_input": "2020-09-06T19:27:50.850872Z",
     "iopub.status.busy": "2020-09-06T19:27:50.849938Z",
     "iopub.status.idle": "2020-09-06T19:27:51.090330Z",
     "shell.execute_reply": "2020-09-06T19:27:51.089718Z"
    },
    "papermill": {
     "duration": 0.291488,
     "end_time": "2020-09-06T19:27:51.090435",
     "exception": false,
     "start_time": "2020-09-06T19:27:50.798947",
     "status": "completed"
    },
    "tags": []
   },
   "outputs": [
    {
     "data": {
      "image/png": "[encoded data removed]",
      "text/plain": [
       "<Figure size 1008x576 with 1 Axes>"
      ]
     },
     "metadata": {},
     "output_type": "display_data"
    }
   ],
   "source": [
    "plt.figure(figsize=(14,8))\n",
    "ax = sns.barplot(x=labelList,y=mylist)\n",
    "plt.yticks(np.arange(0, 101, step=10))\n",
    "plt.title('r2 score comparison among different regression models',fontweight='bold')\n",
    "for p in ax.patches:\n",
    "    width, height = p.get_width(), p.get_height()\n",
    "    x, y = p.get_xy() \n",
    "    ax.annotate('{:.3f}%'.format(height), (x +0.25, y + height + 0.8))\n",
    "plt.show()"
   ]
  },
  {
   "cell_type": "code",
   "execution_count": 213,
   "metadata": {},
   "outputs": [
    {
     "name": "stdout",
     "output_type": "stream",
     "text": [
      "[0.003, 0.003, 0.764, 8.936, 2.531, 0.655, 52.465, 3.498]\n"
     ]
    }
   ],
   "source": [
    "## Comparing the r2 scores of different models\n",
    "labelList = ['Multiple Linear Reg.','Polynomial Reg.','K-NearestNeighbors','Decision Tree','Random Forest',\n",
    "             'Linear SVR','Non-Linear SVR','XGBoost Reg.']\n",
    "mylist = [mse_MultiLinear,mse_regressor,mse_knn,mse_tree,mse_rforest,mse_svr,mse_nlsvr,mse_xgb]\n",
    "for i in range(0,len(mylist)):\n",
    "    mylist[i]=np.round(mylist[i]*100,decimals=3)\n",
    "print(mylist)"
   ]
  },
  {
   "cell_type": "code",
   "execution_count": 216,
   "metadata": {},
   "outputs": [
    {
     "data": {
      "image/png": "[encoded data removed]",
      "text/plain": [
       "<Figure size 1008x576 with 1 Axes>"
      ]
     },
     "metadata": {},
     "output_type": "display_data"
    }
   ],
   "source": [
    "plt.figure(figsize=(14,8))\n",
    "ax = sns.barplot(x=labelList,y=mylist)\n",
    "plt.yticks(np.arange(0, 101, step=10))\n",
    "plt.title('Mean Squared Error (mse) comparison among different regression models',fontweight='bold')\n",
    "for p in ax.patches:\n",
    "    width, height = p.get_width(), p.get_height()\n",
    "    x, y = p.get_xy() \n",
    "    ax.annotate('{:.3f}'.format(height), (x +0.25, y + height + 0.8))\n",
    "plt.show()"
   ]
  },
  {
   "cell_type": "markdown",
   "metadata": {},
   "source": [
    "---"
   ]
  }
 ],
 "metadata": {
  "kernelspec": {
   "display_name": "Python 3",
   "language": "python",
   "name": "python3"
  },
  "language_info": {
   "codemirror_mode": {
    "name": "ipython",
    "version": 3
   },
   "file_extension": ".py",
   "mimetype": "text/x-python",
   "name": "python",
   "nbconvert_exporter": "python",
   "pygments_lexer": "ipython3",
   "version": "3.6.12"
  },
  "papermill": {
   "duration": 73.388356,
   "end_time": "2020-09-06T19:27:52.181869",
   "environment_variables": {},
   "exception": null,
   "input_path": "__notebook__.ipynb",
   "output_path": "__notebook__.ipynb",
   "parameters": {},
   "start_time": "2020-09-06T19:26:38.793513",
   "version": "2.1.0"
  }
 },
 "nbformat": 4,
 "nbformat_minor": 4
}
